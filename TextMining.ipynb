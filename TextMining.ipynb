{
  "nbformat": 4,
  "nbformat_minor": 0,
  "metadata": {
    "colab": {
      "name": "TextMining.ipynb",
      "provenance": [],
      "collapsed_sections": [],
      "toc_visible": true
    },
    "kernelspec": {
      "name": "python3",
      "display_name": "Python 3"
    }
  },
  "cells": [
    {
      "cell_type": "markdown",
      "metadata": {
        "id": "zbymvunWuvFF"
      },
      "source": [
        "## Imports"
      ]
    },
    {
      "cell_type": "code",
      "metadata": {
        "id": "0CH_xke-ct8R"
      },
      "source": [
        "import re\n",
        "import string\n",
        "\n",
        "import nltk\n",
        "from nltk import FreqDist\n",
        "from nltk.corpus import movie_reviews\n",
        "from nltk.corpus import stopwords\n",
        "from nltk.stem import PorterStemmer \n",
        "from nltk.stem import LancasterStemmer\n",
        "from nltk.stem import WordNetLemmatizer"
      ],
      "execution_count": 1,
      "outputs": []
    },
    {
      "cell_type": "markdown",
      "metadata": {
        "id": "_mRcA7NLwHUg"
      },
      "source": [
        "## Part 1 : Regular Expressions"
      ]
    },
    {
      "cell_type": "code",
      "metadata": {
        "id": "8DdkZ1AScvF_"
      },
      "source": [
        "text = 'I am 20 years old. My previous license plate number was 4XUI302 and my new one is 3ABC278. My ID is J987492 and my address is 123 Main street, San Jose, CA. Please email me at myemail123+spam@google.com'"
      ],
      "execution_count": 2,
      "outputs": []
    },
    {
      "cell_type": "markdown",
      "metadata": {
        "id": "Sq-ojbuswPTf"
      },
      "source": [
        "### Find email"
      ]
    },
    {
      "cell_type": "code",
      "metadata": {
        "id": "SbS7ru6qczsO",
        "outputId": "fb2da39f-4560-48cd-b1ba-2fc2053f41a9",
        "colab": {
          "base_uri": "https://localhost:8080/",
          "height": 34
        }
      },
      "source": [
        "email = re.findall(r\"\\S+@\\S+\",text)\n",
        "print(email)"
      ],
      "execution_count": 3,
      "outputs": [
        {
          "output_type": "stream",
          "text": [
            "['myemail123+spam@google.com']\n"
          ],
          "name": "stdout"
        }
      ]
    },
    {
      "cell_type": "markdown",
      "metadata": {
        "id": "QUzKJ9z1wSIO"
      },
      "source": [
        "### Find License Number"
      ]
    },
    {
      "cell_type": "code",
      "metadata": {
        "id": "proDbC3Kc-6G",
        "outputId": "9ffa11e4-c563-4d80-ea92-74d7c7a070f8",
        "colab": {
          "base_uri": "https://localhost:8080/",
          "height": 34
        }
      },
      "source": [
        "license = re.findall(r\"\\d{1}[A-Z]{3}\\d{3}\",text)\n",
        "print(license)"
      ],
      "execution_count": 4,
      "outputs": [
        {
          "output_type": "stream",
          "text": [
            "['4XUI302', '3ABC278']\n"
          ],
          "name": "stdout"
        }
      ]
    },
    {
      "cell_type": "markdown",
      "metadata": {
        "id": "24KipusCwUjG"
      },
      "source": [
        "### Find ID"
      ]
    },
    {
      "cell_type": "code",
      "metadata": {
        "id": "tDIa8_F1dPRQ",
        "outputId": "f41e6de3-5452-46bf-9b56-77e0f680cf07",
        "colab": {
          "base_uri": "https://localhost:8080/",
          "height": 34
        }
      },
      "source": [
        "id = re.findall(r\"[A-Z]?\\d{6}\",text)\n",
        "print(id)"
      ],
      "execution_count": 5,
      "outputs": [
        {
          "output_type": "stream",
          "text": [
            "['J987492']\n"
          ],
          "name": "stdout"
        }
      ]
    },
    {
      "cell_type": "markdown",
      "metadata": {
        "id": "iES0IGaJwYSt"
      },
      "source": [
        "### Find address"
      ]
    },
    {
      "cell_type": "code",
      "metadata": {
        "id": "jZeTN1HudTH9",
        "outputId": "2e0fe576-1f25-402d-ef64-198f1bc20ba6",
        "colab": {
          "base_uri": "https://localhost:8080/",
          "height": 34
        }
      },
      "source": [
        "address = re.split(\"[.]\",\"\".join(re.findall(r\"(?<=address is )\\w+.*\",text)))[0]\n",
        "print(address)"
      ],
      "execution_count": 6,
      "outputs": [
        {
          "output_type": "stream",
          "text": [
            "123 Main street, San Jose, CA\n"
          ],
          "name": "stdout"
        }
      ]
    },
    {
      "cell_type": "markdown",
      "metadata": {
        "id": "KojyyWJrwbYK"
      },
      "source": [
        "### Replace License plate with LP_NUM"
      ]
    },
    {
      "cell_type": "code",
      "metadata": {
        "id": "zGSbucUcwgn9",
        "outputId": "c9a06f09-26cb-458d-f3b5-1b452d2445c6",
        "colab": {
          "base_uri": "https://localhost:8080/",
          "height": 52
        }
      },
      "source": [
        "new_text = re.sub(r\"\\d{1}[A-Z]{3}\\d{3}\", \"LP_NUM\", text)\n",
        "new_text"
      ],
      "execution_count": 7,
      "outputs": [
        {
          "output_type": "execute_result",
          "data": {
            "application/vnd.google.colaboratory.intrinsic+json": {
              "type": "string"
            },
            "text/plain": [
              "'I am 20 years old. My previous license plate number was LP_NUM and my new one is LP_NUM. My ID is J987492 and my address is 123 Main street, San Jose, CA. Please email me at myemail123+spam@google.com'"
            ]
          },
          "metadata": {
            "tags": []
          },
          "execution_count": 7
        }
      ]
    },
    {
      "cell_type": "markdown",
      "metadata": {
        "id": "Z3f9F3tvwg-m"
      },
      "source": [
        "## Part 2: NLTK, remove punctuation and stop words"
      ]
    },
    {
      "cell_type": "markdown",
      "metadata": {
        "id": "68N0grn9wphU"
      },
      "source": [
        "### Download movie_reviews, stopwords, wordnet"
      ]
    },
    {
      "cell_type": "code",
      "metadata": {
        "id": "GRSlHvAAgiuH",
        "outputId": "75c51dc1-849d-4e88-9c27-c27c81441f91",
        "colab": {
          "base_uri": "https://localhost:8080/",
          "height": 136
        }
      },
      "source": [
        "nltk.download('movie_reviews')\n",
        "nltk.download('stopwords')\n",
        "nltk.download('wordnet')"
      ],
      "execution_count": 8,
      "outputs": [
        {
          "output_type": "stream",
          "text": [
            "[nltk_data] Downloading package movie_reviews to /root/nltk_data...\n",
            "[nltk_data]   Package movie_reviews is already up-to-date!\n",
            "[nltk_data] Downloading package stopwords to /root/nltk_data...\n",
            "[nltk_data]   Package stopwords is already up-to-date!\n",
            "[nltk_data] Downloading package wordnet to /root/nltk_data...\n",
            "[nltk_data]   Package wordnet is already up-to-date!\n"
          ],
          "name": "stdout"
        },
        {
          "output_type": "execute_result",
          "data": {
            "text/plain": [
              "True"
            ]
          },
          "metadata": {
            "tags": []
          },
          "execution_count": 8
        }
      ]
    },
    {
      "cell_type": "markdown",
      "metadata": {
        "id": "XFiIoLnnwvMo"
      },
      "source": [
        "### Original count of unique words from movie_reviews dataset and sample"
      ]
    },
    {
      "cell_type": "code",
      "metadata": {
        "id": "TlNOKSP0hgeH",
        "outputId": "3ea07509-660c-4480-f9cc-1f5e32aa62f6",
        "colab": {
          "base_uri": "https://localhost:8080/",
          "height": 34
        }
      },
      "source": [
        "len(nltk.FreqDist(movie_reviews.words()))"
      ],
      "execution_count": 9,
      "outputs": [
        {
          "output_type": "execute_result",
          "data": {
            "text/plain": [
              "39768"
            ]
          },
          "metadata": {
            "tags": []
          },
          "execution_count": 9
        }
      ]
    },
    {
      "cell_type": "code",
      "metadata": {
        "id": "xRJN21RPhsOI",
        "outputId": "9cfb74fa-1877-44c8-b4bd-0b279477a245",
        "colab": {
          "base_uri": "https://localhost:8080/",
          "height": 357
        }
      },
      "source": [
        "words_all = [word.lower() for word in movie_reviews.words()]\n",
        "words_all[:20]"
      ],
      "execution_count": 10,
      "outputs": [
        {
          "output_type": "execute_result",
          "data": {
            "text/plain": [
              "['plot',\n",
              " ':',\n",
              " 'two',\n",
              " 'teen',\n",
              " 'couples',\n",
              " 'go',\n",
              " 'to',\n",
              " 'a',\n",
              " 'church',\n",
              " 'party',\n",
              " ',',\n",
              " 'drink',\n",
              " 'and',\n",
              " 'then',\n",
              " 'drive',\n",
              " '.',\n",
              " 'they',\n",
              " 'get',\n",
              " 'into',\n",
              " 'an']"
            ]
          },
          "metadata": {
            "tags": []
          },
          "execution_count": 10
        }
      ]
    },
    {
      "cell_type": "markdown",
      "metadata": {
        "id": "hOgEpKE3w4F2"
      },
      "source": [
        "### Removing Punctuations and \"--\" not detected in string.punctuation"
      ]
    },
    {
      "cell_type": "code",
      "metadata": {
        "id": "2M6k7DvHqjIe",
        "outputId": "8a1b8300-93ac-4be2-c11c-f937b81f66c2",
        "colab": {
          "base_uri": "https://localhost:8080/",
          "height": 357
        }
      },
      "source": [
        "words_without_punc = [word.lower() for word in movie_reviews.words() if word not in string.punctuation]\n",
        "words_without_punc = [word for word in words_without_punc if word != \"--\"]\n",
        "words_without_punc[:20]"
      ],
      "execution_count": 11,
      "outputs": [
        {
          "output_type": "execute_result",
          "data": {
            "text/plain": [
              "['plot',\n",
              " 'two',\n",
              " 'teen',\n",
              " 'couples',\n",
              " 'go',\n",
              " 'to',\n",
              " 'a',\n",
              " 'church',\n",
              " 'party',\n",
              " 'drink',\n",
              " 'and',\n",
              " 'then',\n",
              " 'drive',\n",
              " 'they',\n",
              " 'get',\n",
              " 'into',\n",
              " 'an',\n",
              " 'accident',\n",
              " 'one',\n",
              " 'of']"
            ]
          },
          "metadata": {
            "tags": []
          },
          "execution_count": 11
        }
      ]
    },
    {
      "cell_type": "code",
      "metadata": {
        "id": "azd-cDvfqyE_",
        "outputId": "63788e4f-3843-48a8-af1b-ef79b0c7003c",
        "colab": {
          "base_uri": "https://localhost:8080/",
          "height": 34
        }
      },
      "source": [
        "len(nltk.FreqDist(words_without_punc))"
      ],
      "execution_count": 12,
      "outputs": [
        {
          "output_type": "execute_result",
          "data": {
            "text/plain": [
              "39736"
            ]
          },
          "metadata": {
            "tags": []
          },
          "execution_count": 12
        }
      ]
    },
    {
      "cell_type": "markdown",
      "metadata": {
        "id": "vaPAr3igxBmg"
      },
      "source": [
        "### 20 Most Common unique words after removing punctuations"
      ]
    },
    {
      "cell_type": "code",
      "metadata": {
        "id": "I3StU4Rhq8Yo",
        "outputId": "9e2fda3d-b387-405a-9148-d6d700b67c54",
        "colab": {
          "base_uri": "https://localhost:8080/",
          "height": 357
        }
      },
      "source": [
        "FreqDist(words_without_punc).most_common(20)"
      ],
      "execution_count": 13,
      "outputs": [
        {
          "output_type": "execute_result",
          "data": {
            "text/plain": [
              "[('the', 76529),\n",
              " ('a', 38106),\n",
              " ('and', 35576),\n",
              " ('of', 34123),\n",
              " ('to', 31937),\n",
              " ('is', 25195),\n",
              " ('in', 21822),\n",
              " ('s', 18513),\n",
              " ('it', 16107),\n",
              " ('that', 15924),\n",
              " ('as', 11378),\n",
              " ('with', 10792),\n",
              " ('for', 9961),\n",
              " ('his', 9587),\n",
              " ('this', 9578),\n",
              " ('film', 9517),\n",
              " ('i', 8889),\n",
              " ('he', 8864),\n",
              " ('but', 8634),\n",
              " ('on', 7385)]"
            ]
          },
          "metadata": {
            "tags": []
          },
          "execution_count": 13
        }
      ]
    },
    {
      "cell_type": "markdown",
      "metadata": {
        "id": "lB3diJbJxHZn"
      },
      "source": [
        "### Removing stopwords"
      ]
    },
    {
      "cell_type": "code",
      "metadata": {
        "id": "_3ivCFZDrDJD",
        "outputId": "d4330f96-2e35-438b-9dd2-bfea1b6b8f73",
        "colab": {
          "base_uri": "https://localhost:8080/",
          "height": 357
        }
      },
      "source": [
        "stopwords_eng = stopwords.words(\"english\")\n",
        "words_without_punc_stopwords = [word for word in words_without_punc if word not in stopwords_eng]\n",
        "words_without_punc_stopwords[:20]"
      ],
      "execution_count": 14,
      "outputs": [
        {
          "output_type": "execute_result",
          "data": {
            "text/plain": [
              "['plot',\n",
              " 'two',\n",
              " 'teen',\n",
              " 'couples',\n",
              " 'go',\n",
              " 'church',\n",
              " 'party',\n",
              " 'drink',\n",
              " 'drive',\n",
              " 'get',\n",
              " 'accident',\n",
              " 'one',\n",
              " 'guys',\n",
              " 'dies',\n",
              " 'girlfriend',\n",
              " 'continues',\n",
              " 'see',\n",
              " 'life',\n",
              " 'nightmares',\n",
              " 'deal']"
            ]
          },
          "metadata": {
            "tags": []
          },
          "execution_count": 14
        }
      ]
    },
    {
      "cell_type": "code",
      "metadata": {
        "id": "nIi37F_3rf6_",
        "outputId": "66898766-2702-4458-8765-93cab6527f4f",
        "colab": {
          "base_uri": "https://localhost:8080/",
          "height": 34
        }
      },
      "source": [
        "len(nltk.FreqDist(words_without_punc_stopwords))"
      ],
      "execution_count": 15,
      "outputs": [
        {
          "output_type": "execute_result",
          "data": {
            "text/plain": [
              "39585"
            ]
          },
          "metadata": {
            "tags": []
          },
          "execution_count": 15
        }
      ]
    },
    {
      "cell_type": "markdown",
      "metadata": {
        "id": "KP0R9h8yxL0O"
      },
      "source": [
        "### 20 Most Common unique words after removing stopwords"
      ]
    },
    {
      "cell_type": "code",
      "metadata": {
        "id": "KvZhOv8Rrt5N",
        "outputId": "9d97da71-29ae-4ba4-9713-c72b67a2c9c4",
        "colab": {
          "base_uri": "https://localhost:8080/",
          "height": 357
        }
      },
      "source": [
        "FreqDist(words_without_punc_stopwords).most_common(20)"
      ],
      "execution_count": 16,
      "outputs": [
        {
          "output_type": "execute_result",
          "data": {
            "text/plain": [
              "[('film', 9517),\n",
              " ('one', 5852),\n",
              " ('movie', 5771),\n",
              " ('like', 3690),\n",
              " ('even', 2565),\n",
              " ('good', 2411),\n",
              " ('time', 2411),\n",
              " ('story', 2169),\n",
              " ('would', 2109),\n",
              " ('much', 2049),\n",
              " ('character', 2020),\n",
              " ('also', 1967),\n",
              " ('get', 1949),\n",
              " ('two', 1911),\n",
              " ('well', 1906),\n",
              " ('characters', 1859),\n",
              " ('first', 1836),\n",
              " ('see', 1749),\n",
              " ('way', 1693),\n",
              " ('make', 1642)]"
            ]
          },
          "metadata": {
            "tags": []
          },
          "execution_count": 16
        }
      ]
    },
    {
      "cell_type": "markdown",
      "metadata": {
        "id": "pTVAaceFxT9P"
      },
      "source": [
        "### 10 Least used unique words using hapaxes()"
      ]
    },
    {
      "cell_type": "code",
      "metadata": {
        "id": "5n527SE6ryhx",
        "outputId": "aaa495a6-b264-4cf6-d01a-eebb26ef6569",
        "colab": {
          "base_uri": "https://localhost:8080/",
          "height": 34
        }
      },
      "source": [
        "least_used_words = FreqDist(words_without_punc_stopwords).hapaxes()[:10]\n",
        "print(least_used_words)"
      ],
      "execution_count": 17,
      "outputs": [
        {
          "output_type": "stream",
          "text": [
            "['looooot', 'schnazzy', 'timex', 'indiglo', 'jessalyn', 'gilsig', 'ruber', 'jaleel', 'balki', 'wavers']\n"
          ],
          "name": "stdout"
        }
      ]
    },
    {
      "cell_type": "markdown",
      "metadata": {
        "id": "0j-YZTbDxa7B"
      },
      "source": [
        "## Part 3: Stemming and Lemmatizing dataset"
      ]
    },
    {
      "cell_type": "code",
      "metadata": {
        "id": "B6ZOjGLIsUTX"
      },
      "source": [
        "### trying two different types of stemming techinques\n",
        "ps = PorterStemmer()\n",
        "ls = LancasterStemmer()\n",
        "lm = WordNetLemmatizer() "
      ],
      "execution_count": 18,
      "outputs": []
    },
    {
      "cell_type": "markdown",
      "metadata": {
        "id": "KyCY2Uh2zJOX"
      },
      "source": [
        "### Using PorterStemmer on words without punctuations and stopwords and calculating count of unique words after Stemming"
      ]
    },
    {
      "cell_type": "code",
      "metadata": {
        "id": "iLxMVKovtZVx",
        "outputId": "a909c0d0-72ae-41ad-9f13-4384db93d615",
        "colab": {
          "base_uri": "https://localhost:8080/",
          "height": 357
        }
      },
      "source": [
        "ps_stem_words=[ps.stem(word) for word in words_without_punc_stopwords ]\n",
        "ps_stem_words[:20]"
      ],
      "execution_count": 19,
      "outputs": [
        {
          "output_type": "execute_result",
          "data": {
            "text/plain": [
              "['plot',\n",
              " 'two',\n",
              " 'teen',\n",
              " 'coupl',\n",
              " 'go',\n",
              " 'church',\n",
              " 'parti',\n",
              " 'drink',\n",
              " 'drive',\n",
              " 'get',\n",
              " 'accid',\n",
              " 'one',\n",
              " 'guy',\n",
              " 'die',\n",
              " 'girlfriend',\n",
              " 'continu',\n",
              " 'see',\n",
              " 'life',\n",
              " 'nightmar',\n",
              " 'deal']"
            ]
          },
          "metadata": {
            "tags": []
          },
          "execution_count": 19
        }
      ]
    },
    {
      "cell_type": "code",
      "metadata": {
        "id": "CsQ68ckRtgqb",
        "outputId": "8016ff94-c5d4-48ad-d176-d575121e0f83",
        "colab": {
          "base_uri": "https://localhost:8080/",
          "height": 34
        }
      },
      "source": [
        "print(len(nltk.FreqDist(ps_stem_words)))"
      ],
      "execution_count": 20,
      "outputs": [
        {
          "output_type": "stream",
          "text": [
            "26100\n"
          ],
          "name": "stdout"
        }
      ]
    },
    {
      "cell_type": "markdown",
      "metadata": {
        "id": "g7yt1I6SzVUD"
      },
      "source": [
        "### Using LancasterStemmer on words without punctuations and stopwords and calculating count of unique words after Stemming"
      ]
    },
    {
      "cell_type": "code",
      "metadata": {
        "id": "oE1q67kFtncj",
        "outputId": "3dce2845-d32b-4d25-a746-1323e5a6132e",
        "colab": {
          "base_uri": "https://localhost:8080/",
          "height": 357
        }
      },
      "source": [
        "ls_stemwords=[ls.stem(word) for word in words_without_punc_stopwords ]\n",
        "ls_stemwords[:20]"
      ],
      "execution_count": 21,
      "outputs": [
        {
          "output_type": "execute_result",
          "data": {
            "text/plain": [
              "['plot',\n",
              " 'two',\n",
              " 'teen',\n",
              " 'coupl',\n",
              " 'go',\n",
              " 'church',\n",
              " 'party',\n",
              " 'drink',\n",
              " 'driv',\n",
              " 'get',\n",
              " 'accid',\n",
              " 'on',\n",
              " 'guy',\n",
              " 'die',\n",
              " 'girlfriend',\n",
              " 'continu',\n",
              " 'see',\n",
              " 'lif',\n",
              " 'nightm',\n",
              " 'deal']"
            ]
          },
          "metadata": {
            "tags": []
          },
          "execution_count": 21
        }
      ]
    },
    {
      "cell_type": "code",
      "metadata": {
        "id": "A6jtXw_Ktxrm",
        "outputId": "ec0e18e9-6b51-4267-b4ac-ccdd02dd0295",
        "colab": {
          "base_uri": "https://localhost:8080/",
          "height": 34
        }
      },
      "source": [
        "print(len(nltk.FreqDist(ls_stemwords))) "
      ],
      "execution_count": 22,
      "outputs": [
        {
          "output_type": "stream",
          "text": [
            "21466\n"
          ],
          "name": "stdout"
        }
      ]
    },
    {
      "cell_type": "markdown",
      "metadata": {
        "id": "XzSsPpMSzf2S"
      },
      "source": [
        "### Using WordNetLemmatizer on words without punctuations and stopwords and calculating count of unique words after Stemming"
      ]
    },
    {
      "cell_type": "code",
      "metadata": {
        "id": "OHf8-Loyt7Xb",
        "outputId": "5bc5cce7-61ac-4b64-b7bf-4d3d5acb18be",
        "colab": {
          "base_uri": "https://localhost:8080/",
          "height": 357
        }
      },
      "source": [
        "word_lem=[lm.lemmatize(word) for word in words_without_punc_stopwords ]\n",
        "word_lem[:20]"
      ],
      "execution_count": 23,
      "outputs": [
        {
          "output_type": "execute_result",
          "data": {
            "text/plain": [
              "['plot',\n",
              " 'two',\n",
              " 'teen',\n",
              " 'couple',\n",
              " 'go',\n",
              " 'church',\n",
              " 'party',\n",
              " 'drink',\n",
              " 'drive',\n",
              " 'get',\n",
              " 'accident',\n",
              " 'one',\n",
              " 'guy',\n",
              " 'dy',\n",
              " 'girlfriend',\n",
              " 'continues',\n",
              " 'see',\n",
              " 'life',\n",
              " 'nightmare',\n",
              " 'deal']"
            ]
          },
          "metadata": {
            "tags": []
          },
          "execution_count": 23
        }
      ]
    },
    {
      "cell_type": "code",
      "metadata": {
        "id": "aBvxWdQQuCpq",
        "outputId": "d9df02a0-a9be-41c5-a1dc-2c33eb02d944",
        "colab": {
          "base_uri": "https://localhost:8080/",
          "height": 34
        }
      },
      "source": [
        "print(len(nltk.FreqDist(word_lem)))"
      ],
      "execution_count": 24,
      "outputs": [
        {
          "output_type": "stream",
          "text": [
            "35171\n"
          ],
          "name": "stdout"
        }
      ]
    }
  ]
}