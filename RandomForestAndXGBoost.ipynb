{
  "nbformat": 4,
  "nbformat_minor": 0,
  "metadata": {
    "colab": {
      "name": "RandomForestAndXGBoost.ipynb",
      "provenance": [],
      "collapsed_sections": [],
      "toc_visible": true
    },
    "kernelspec": {
      "name": "python3",
      "display_name": "Python 3"
    }
  },
  "cells": [
    {
      "cell_type": "markdown",
      "metadata": {
        "id": "MK-tghEkWj-t"
      },
      "source": [
        "# Random Forest and XGBoost"
      ]
    },
    {
      "cell_type": "markdown",
      "metadata": {
        "id": "vYqR0R9IWhhs"
      },
      "source": [
        "### Imports"
      ]
    },
    {
      "cell_type": "code",
      "metadata": {
        "id": "JkMDCmK8WGX9"
      },
      "source": [
        "import pandas as pd\n",
        "import numpy as np\n",
        "import warnings; warnings.simplefilter('ignore')\n",
        "from time import time\n",
        "\n",
        "import matplotlib.pyplot as plt\n",
        "import seaborn as sns\n",
        "from sklearn import datasets\n",
        "from sklearn import tree\n",
        "from sklearn.metrics import confusion_matrix, classification_report\n",
        "\n",
        "from sklearn.model_selection import train_test_split as tts\n",
        "from sklearn.model_selection import GridSearchCV, RandomizedSearchCV\n",
        "\n",
        "from sklearn.ensemble import RandomForestClassifier\n",
        "import xgboost as xgb"
      ],
      "execution_count": 1,
      "outputs": []
    },
    {
      "cell_type": "markdown",
      "metadata": {
        "id": "EcRqpNyuWvfQ"
      },
      "source": [
        "### Loading digit dataset and splitting in train and test"
      ]
    },
    {
      "cell_type": "code",
      "metadata": {
        "id": "D-iPhXRcWdN5"
      },
      "source": [
        "X, y = datasets.load_digits(return_X_y = True)\n",
        "\n",
        "X_train, X_test, y_train, y_true = tts(X,y,test_size = 0.2, random_state = 42)"
      ],
      "execution_count": 2,
      "outputs": []
    },
    {
      "cell_type": "markdown",
      "metadata": {
        "id": "rg_wZV4-W5hY"
      },
      "source": [
        "### Random Forest Classifier and its parameters"
      ]
    },
    {
      "cell_type": "code",
      "metadata": {
        "id": "vwhyWUShWx4F",
        "outputId": "3595a340-05a9-4079-ec9a-0acd0fc1368a",
        "colab": {
          "base_uri": "https://localhost:8080/",
          "height": 340
        }
      },
      "source": [
        "randomforestclf = RandomForestClassifier()\n",
        "param_grid_rf = [\n",
        "              {'bootstrap': [True, False],\n",
        "               'max_depth': [1,2,3],\n",
        "               'n_estimators': [10, 50, 100, 200, 500],\n",
        "               'max_features': [1,2,3,4,5,6,7,8]}\n",
        "              ]\n",
        "              \n",
        "randomforestclf.get_params()"
      ],
      "execution_count": 29,
      "outputs": [
        {
          "output_type": "execute_result",
          "data": {
            "text/plain": [
              "{'bootstrap': True,\n",
              " 'ccp_alpha': 0.0,\n",
              " 'class_weight': None,\n",
              " 'criterion': 'gini',\n",
              " 'max_depth': None,\n",
              " 'max_features': 'auto',\n",
              " 'max_leaf_nodes': None,\n",
              " 'max_samples': None,\n",
              " 'min_impurity_decrease': 0.0,\n",
              " 'min_impurity_split': None,\n",
              " 'min_samples_leaf': 1,\n",
              " 'min_samples_split': 2,\n",
              " 'min_weight_fraction_leaf': 0.0,\n",
              " 'n_estimators': 100,\n",
              " 'n_jobs': None,\n",
              " 'oob_score': False,\n",
              " 'random_state': None,\n",
              " 'verbose': 0,\n",
              " 'warm_start': False}"
            ]
          },
          "metadata": {
            "tags": []
          },
          "execution_count": 29
        }
      ]
    },
    {
      "cell_type": "markdown",
      "metadata": {
        "id": "lVTzcrsjbFeD"
      },
      "source": [
        "### XGBoost classifier and its parameter grid"
      ]
    },
    {
      "cell_type": "code",
      "metadata": {
        "id": "0LZCdcDXaW11"
      },
      "source": [
        "xgbclf = xgb.XGBClassifier()\n",
        "param_grid_xgb = [\n",
        "                  { 'learning_rate': [0.1, 0.2, 1],\n",
        "                    'max_depth': [1,2,3],\n",
        "                    'n_estimators': [10, 50, 100, 200, 500] }\n",
        "                  ]"
      ],
      "execution_count": 10,
      "outputs": []
    },
    {
      "cell_type": "markdown",
      "metadata": {
        "id": "1dxz_JjgqwvF"
      },
      "source": [
        "## Grid Search CV"
      ]
    },
    {
      "cell_type": "markdown",
      "metadata": {
        "id": "bfq5zDPMXaGA"
      },
      "source": [
        "### Calculating time for hyperparameter search on Random Forest Classifier using Grid Search CV"
      ]
    },
    {
      "cell_type": "code",
      "metadata": {
        "id": "kR6T8KYHXPxe",
        "outputId": "8233e03f-c15a-43b6-c1d2-0ffe04318b6b",
        "colab": {
          "base_uri": "https://localhost:8080/",
          "height": 34
        }
      },
      "source": [
        "start = time()\n",
        "gridsearch = GridSearchCV(estimator = randomforestclf, param_grid=param_grid_rf, scoring='f1_macro')\n",
        "gridsearch.fit(X_train, y_train)\n",
        "end = time()\n",
        "print(f\"Time taken for Random Forest Classifier using Grid Search: {end - start}\")"
      ],
      "execution_count": 5,
      "outputs": [
        {
          "output_type": "stream",
          "text": [
            "Time taken for Random Forest Classifier using Grid Search: 346.6907925605774\n"
          ],
          "name": "stdout"
        }
      ]
    },
    {
      "cell_type": "markdown",
      "metadata": {
        "id": "Tj1NeeIVXxFH"
      },
      "source": [
        "### Displaying Best Parameters for Random Forest using Grid Search CV and means and standard deviation for all the possibilities of parameter combinations"
      ]
    },
    {
      "cell_type": "code",
      "metadata": {
        "id": "ckTJYdJZXwEr",
        "outputId": "a4a1dbae-12b6-48ea-ada6-95e4a1c4feb9",
        "colab": {
          "base_uri": "https://localhost:8080/",
          "height": 1000
        }
      },
      "source": [
        "print(\"Best parameters set found on development set:\")\n",
        "print()\n",
        "print(gridsearch.best_params_)\n",
        "print()\n",
        "print(\"Grid scores on development set:\")\n",
        "print()\n",
        "means = gridsearch.cv_results_['mean_test_score']\n",
        "stds = gridsearch.cv_results_['std_test_score']\n",
        "fit_times = gridsearch.cv_results_['mean_fit_time']\n",
        "for mean, std, fit_time, params in zip(means, stds, fit_times, gridsearch.cv_results_['params']):\n",
        "    print(\"%0.3f (+/-%0.03f), %0.3f seconds for %r\"\n",
        "          % (mean, std * 2, fit_time, params))\n",
        "print()"
      ],
      "execution_count": 9,
      "outputs": [
        {
          "output_type": "stream",
          "text": [
            "Best parameters set found on development set:\n",
            "\n",
            "{'bootstrap': False, 'max_depth': 3, 'max_features': 3, 'n_estimators': 200}\n",
            "\n",
            "Grid scores on development set:\n",
            "\n",
            "0.416 (+/-0.147), 0.018 seconds for {'bootstrap': True, 'max_depth': 1, 'max_features': 1, 'n_estimators': 10}\n",
            "0.619 (+/-0.028), 0.075 seconds for {'bootstrap': True, 'max_depth': 1, 'max_features': 1, 'n_estimators': 50}\n",
            "0.702 (+/-0.063), 0.147 seconds for {'bootstrap': True, 'max_depth': 1, 'max_features': 1, 'n_estimators': 100}\n",
            "0.718 (+/-0.081), 0.290 seconds for {'bootstrap': True, 'max_depth': 1, 'max_features': 1, 'n_estimators': 200}\n",
            "0.730 (+/-0.069), 0.736 seconds for {'bootstrap': True, 'max_depth': 1, 'max_features': 1, 'n_estimators': 500}\n",
            "0.416 (+/-0.135), 0.016 seconds for {'bootstrap': True, 'max_depth': 1, 'max_features': 2, 'n_estimators': 10}\n",
            "0.707 (+/-0.052), 0.078 seconds for {'bootstrap': True, 'max_depth': 1, 'max_features': 2, 'n_estimators': 50}\n",
            "0.688 (+/-0.081), 0.150 seconds for {'bootstrap': True, 'max_depth': 1, 'max_features': 2, 'n_estimators': 100}\n",
            "0.763 (+/-0.070), 0.315 seconds for {'bootstrap': True, 'max_depth': 1, 'max_features': 2, 'n_estimators': 200}\n",
            "0.754 (+/-0.049), 0.747 seconds for {'bootstrap': True, 'max_depth': 1, 'max_features': 2, 'n_estimators': 500}\n",
            "0.503 (+/-0.031), 0.016 seconds for {'bootstrap': True, 'max_depth': 1, 'max_features': 3, 'n_estimators': 10}\n",
            "0.699 (+/-0.124), 0.075 seconds for {'bootstrap': True, 'max_depth': 1, 'max_features': 3, 'n_estimators': 50}\n",
            "0.758 (+/-0.087), 0.150 seconds for {'bootstrap': True, 'max_depth': 1, 'max_features': 3, 'n_estimators': 100}\n",
            "0.712 (+/-0.077), 0.302 seconds for {'bootstrap': True, 'max_depth': 1, 'max_features': 3, 'n_estimators': 200}\n",
            "0.748 (+/-0.085), 0.777 seconds for {'bootstrap': True, 'max_depth': 1, 'max_features': 3, 'n_estimators': 500}\n",
            "0.478 (+/-0.123), 0.017 seconds for {'bootstrap': True, 'max_depth': 1, 'max_features': 4, 'n_estimators': 10}\n",
            "0.680 (+/-0.134), 0.077 seconds for {'bootstrap': True, 'max_depth': 1, 'max_features': 4, 'n_estimators': 50}\n",
            "0.686 (+/-0.071), 0.156 seconds for {'bootstrap': True, 'max_depth': 1, 'max_features': 4, 'n_estimators': 100}\n",
            "0.738 (+/-0.069), 0.315 seconds for {'bootstrap': True, 'max_depth': 1, 'max_features': 4, 'n_estimators': 200}\n",
            "0.726 (+/-0.057), 0.782 seconds for {'bootstrap': True, 'max_depth': 1, 'max_features': 4, 'n_estimators': 500}\n",
            "0.510 (+/-0.117), 0.017 seconds for {'bootstrap': True, 'max_depth': 1, 'max_features': 5, 'n_estimators': 10}\n",
            "0.660 (+/-0.103), 0.080 seconds for {'bootstrap': True, 'max_depth': 1, 'max_features': 5, 'n_estimators': 50}\n",
            "0.695 (+/-0.058), 0.156 seconds for {'bootstrap': True, 'max_depth': 1, 'max_features': 5, 'n_estimators': 100}\n",
            "0.685 (+/-0.087), 0.311 seconds for {'bootstrap': True, 'max_depth': 1, 'max_features': 5, 'n_estimators': 200}\n",
            "0.718 (+/-0.084), 0.788 seconds for {'bootstrap': True, 'max_depth': 1, 'max_features': 5, 'n_estimators': 500}\n",
            "0.450 (+/-0.225), 0.018 seconds for {'bootstrap': True, 'max_depth': 1, 'max_features': 6, 'n_estimators': 10}\n",
            "0.611 (+/-0.139), 0.081 seconds for {'bootstrap': True, 'max_depth': 1, 'max_features': 6, 'n_estimators': 50}\n",
            "0.671 (+/-0.057), 0.167 seconds for {'bootstrap': True, 'max_depth': 1, 'max_features': 6, 'n_estimators': 100}\n",
            "0.675 (+/-0.101), 0.337 seconds for {'bootstrap': True, 'max_depth': 1, 'max_features': 6, 'n_estimators': 200}\n",
            "0.694 (+/-0.066), 0.838 seconds for {'bootstrap': True, 'max_depth': 1, 'max_features': 6, 'n_estimators': 500}\n",
            "0.542 (+/-0.169), 0.019 seconds for {'bootstrap': True, 'max_depth': 1, 'max_features': 7, 'n_estimators': 10}\n",
            "0.617 (+/-0.177), 0.085 seconds for {'bootstrap': True, 'max_depth': 1, 'max_features': 7, 'n_estimators': 50}\n",
            "0.672 (+/-0.102), 0.167 seconds for {'bootstrap': True, 'max_depth': 1, 'max_features': 7, 'n_estimators': 100}\n",
            "0.683 (+/-0.087), 0.336 seconds for {'bootstrap': True, 'max_depth': 1, 'max_features': 7, 'n_estimators': 200}\n",
            "0.702 (+/-0.077), 0.806 seconds for {'bootstrap': True, 'max_depth': 1, 'max_features': 7, 'n_estimators': 500}\n",
            "0.449 (+/-0.164), 0.018 seconds for {'bootstrap': True, 'max_depth': 1, 'max_features': 8, 'n_estimators': 10}\n",
            "0.602 (+/-0.094), 0.079 seconds for {'bootstrap': True, 'max_depth': 1, 'max_features': 8, 'n_estimators': 50}\n",
            "0.636 (+/-0.078), 0.171 seconds for {'bootstrap': True, 'max_depth': 1, 'max_features': 8, 'n_estimators': 100}\n",
            "0.683 (+/-0.076), 0.333 seconds for {'bootstrap': True, 'max_depth': 1, 'max_features': 8, 'n_estimators': 200}\n",
            "0.678 (+/-0.103), 0.812 seconds for {'bootstrap': True, 'max_depth': 1, 'max_features': 8, 'n_estimators': 500}\n",
            "0.559 (+/-0.144), 0.017 seconds for {'bootstrap': True, 'max_depth': 2, 'max_features': 1, 'n_estimators': 10}\n",
            "0.764 (+/-0.062), 0.080 seconds for {'bootstrap': True, 'max_depth': 2, 'max_features': 1, 'n_estimators': 50}\n",
            "0.797 (+/-0.105), 0.153 seconds for {'bootstrap': True, 'max_depth': 2, 'max_features': 1, 'n_estimators': 100}\n",
            "0.832 (+/-0.057), 0.303 seconds for {'bootstrap': True, 'max_depth': 2, 'max_features': 1, 'n_estimators': 200}\n",
            "0.842 (+/-0.040), 0.750 seconds for {'bootstrap': True, 'max_depth': 2, 'max_features': 1, 'n_estimators': 500}\n",
            "0.668 (+/-0.109), 0.017 seconds for {'bootstrap': True, 'max_depth': 2, 'max_features': 2, 'n_estimators': 10}\n",
            "0.806 (+/-0.033), 0.081 seconds for {'bootstrap': True, 'max_depth': 2, 'max_features': 2, 'n_estimators': 50}\n",
            "0.838 (+/-0.078), 0.157 seconds for {'bootstrap': True, 'max_depth': 2, 'max_features': 2, 'n_estimators': 100}\n",
            "0.854 (+/-0.027), 0.310 seconds for {'bootstrap': True, 'max_depth': 2, 'max_features': 2, 'n_estimators': 200}\n",
            "0.864 (+/-0.048), 0.774 seconds for {'bootstrap': True, 'max_depth': 2, 'max_features': 2, 'n_estimators': 500}\n",
            "0.639 (+/-0.046), 0.017 seconds for {'bootstrap': True, 'max_depth': 2, 'max_features': 3, 'n_estimators': 10}\n",
            "0.822 (+/-0.077), 0.080 seconds for {'bootstrap': True, 'max_depth': 2, 'max_features': 3, 'n_estimators': 50}\n",
            "0.841 (+/-0.048), 0.161 seconds for {'bootstrap': True, 'max_depth': 2, 'max_features': 3, 'n_estimators': 100}\n",
            "0.860 (+/-0.039), 0.318 seconds for {'bootstrap': True, 'max_depth': 2, 'max_features': 3, 'n_estimators': 200}\n",
            "0.853 (+/-0.029), 0.834 seconds for {'bootstrap': True, 'max_depth': 2, 'max_features': 3, 'n_estimators': 500}\n",
            "0.689 (+/-0.084), 0.018 seconds for {'bootstrap': True, 'max_depth': 2, 'max_features': 4, 'n_estimators': 10}\n",
            "0.803 (+/-0.061), 0.087 seconds for {'bootstrap': True, 'max_depth': 2, 'max_features': 4, 'n_estimators': 50}\n",
            "0.835 (+/-0.047), 0.171 seconds for {'bootstrap': True, 'max_depth': 2, 'max_features': 4, 'n_estimators': 100}\n",
            "0.840 (+/-0.062), 0.340 seconds for {'bootstrap': True, 'max_depth': 2, 'max_features': 4, 'n_estimators': 200}\n",
            "0.845 (+/-0.048), 0.853 seconds for {'bootstrap': True, 'max_depth': 2, 'max_features': 4, 'n_estimators': 500}\n",
            "0.709 (+/-0.117), 0.019 seconds for {'bootstrap': True, 'max_depth': 2, 'max_features': 5, 'n_estimators': 10}\n",
            "0.801 (+/-0.107), 0.084 seconds for {'bootstrap': True, 'max_depth': 2, 'max_features': 5, 'n_estimators': 50}\n",
            "0.827 (+/-0.032), 0.173 seconds for {'bootstrap': True, 'max_depth': 2, 'max_features': 5, 'n_estimators': 100}\n",
            "0.823 (+/-0.054), 0.341 seconds for {'bootstrap': True, 'max_depth': 2, 'max_features': 5, 'n_estimators': 200}\n",
            "0.847 (+/-0.060), 0.845 seconds for {'bootstrap': True, 'max_depth': 2, 'max_features': 5, 'n_estimators': 500}\n",
            "0.648 (+/-0.116), 0.018 seconds for {'bootstrap': True, 'max_depth': 2, 'max_features': 6, 'n_estimators': 10}\n",
            "0.808 (+/-0.111), 0.090 seconds for {'bootstrap': True, 'max_depth': 2, 'max_features': 6, 'n_estimators': 50}\n",
            "0.831 (+/-0.049), 0.175 seconds for {'bootstrap': True, 'max_depth': 2, 'max_features': 6, 'n_estimators': 100}\n",
            "0.826 (+/-0.056), 0.352 seconds for {'bootstrap': True, 'max_depth': 2, 'max_features': 6, 'n_estimators': 200}\n",
            "0.839 (+/-0.048), 0.894 seconds for {'bootstrap': True, 'max_depth': 2, 'max_features': 6, 'n_estimators': 500}\n",
            "0.672 (+/-0.050), 0.021 seconds for {'bootstrap': True, 'max_depth': 2, 'max_features': 7, 'n_estimators': 10}\n",
            "0.803 (+/-0.078), 0.093 seconds for {'bootstrap': True, 'max_depth': 2, 'max_features': 7, 'n_estimators': 50}\n",
            "0.827 (+/-0.019), 0.183 seconds for {'bootstrap': True, 'max_depth': 2, 'max_features': 7, 'n_estimators': 100}\n",
            "0.824 (+/-0.054), 0.372 seconds for {'bootstrap': True, 'max_depth': 2, 'max_features': 7, 'n_estimators': 200}\n",
            "0.832 (+/-0.048), 0.948 seconds for {'bootstrap': True, 'max_depth': 2, 'max_features': 7, 'n_estimators': 500}\n",
            "0.700 (+/-0.095), 0.022 seconds for {'bootstrap': True, 'max_depth': 2, 'max_features': 8, 'n_estimators': 10}\n",
            "0.791 (+/-0.026), 0.098 seconds for {'bootstrap': True, 'max_depth': 2, 'max_features': 8, 'n_estimators': 50}\n",
            "0.822 (+/-0.051), 0.193 seconds for {'bootstrap': True, 'max_depth': 2, 'max_features': 8, 'n_estimators': 100}\n",
            "0.826 (+/-0.049), 0.380 seconds for {'bootstrap': True, 'max_depth': 2, 'max_features': 8, 'n_estimators': 200}\n",
            "0.825 (+/-0.051), 0.953 seconds for {'bootstrap': True, 'max_depth': 2, 'max_features': 8, 'n_estimators': 500}\n",
            "0.699 (+/-0.117), 0.018 seconds for {'bootstrap': True, 'max_depth': 3, 'max_features': 1, 'n_estimators': 10}\n",
            "0.846 (+/-0.030), 0.084 seconds for {'bootstrap': True, 'max_depth': 3, 'max_features': 1, 'n_estimators': 50}\n",
            "0.856 (+/-0.038), 0.164 seconds for {'bootstrap': True, 'max_depth': 3, 'max_features': 1, 'n_estimators': 100}\n",
            "0.866 (+/-0.030), 0.322 seconds for {'bootstrap': True, 'max_depth': 3, 'max_features': 1, 'n_estimators': 200}\n",
            "0.881 (+/-0.022), 0.797 seconds for {'bootstrap': True, 'max_depth': 3, 'max_features': 1, 'n_estimators': 500}\n",
            "0.732 (+/-0.099), 0.017 seconds for {'bootstrap': True, 'max_depth': 3, 'max_features': 2, 'n_estimators': 10}\n",
            "0.859 (+/-0.075), 0.084 seconds for {'bootstrap': True, 'max_depth': 3, 'max_features': 2, 'n_estimators': 50}\n",
            "0.892 (+/-0.038), 0.167 seconds for {'bootstrap': True, 'max_depth': 3, 'max_features': 2, 'n_estimators': 100}\n",
            "0.885 (+/-0.023), 0.330 seconds for {'bootstrap': True, 'max_depth': 3, 'max_features': 2, 'n_estimators': 200}\n",
            "0.896 (+/-0.026), 0.804 seconds for {'bootstrap': True, 'max_depth': 3, 'max_features': 2, 'n_estimators': 500}\n",
            "0.769 (+/-0.069), 0.019 seconds for {'bootstrap': True, 'max_depth': 3, 'max_features': 3, 'n_estimators': 10}\n",
            "0.868 (+/-0.048), 0.085 seconds for {'bootstrap': True, 'max_depth': 3, 'max_features': 3, 'n_estimators': 50}\n",
            "0.885 (+/-0.036), 0.175 seconds for {'bootstrap': True, 'max_depth': 3, 'max_features': 3, 'n_estimators': 100}\n",
            "0.892 (+/-0.021), 0.343 seconds for {'bootstrap': True, 'max_depth': 3, 'max_features': 3, 'n_estimators': 200}\n",
            "0.890 (+/-0.024), 0.842 seconds for {'bootstrap': True, 'max_depth': 3, 'max_features': 3, 'n_estimators': 500}\n",
            "0.788 (+/-0.059), 0.020 seconds for {'bootstrap': True, 'max_depth': 3, 'max_features': 4, 'n_estimators': 10}\n",
            "0.875 (+/-0.054), 0.092 seconds for {'bootstrap': True, 'max_depth': 3, 'max_features': 4, 'n_estimators': 50}\n",
            "0.883 (+/-0.026), 0.178 seconds for {'bootstrap': True, 'max_depth': 3, 'max_features': 4, 'n_estimators': 100}\n",
            "0.894 (+/-0.037), 0.525 seconds for {'bootstrap': True, 'max_depth': 3, 'max_features': 4, 'n_estimators': 200}\n",
            "0.897 (+/-0.023), 1.435 seconds for {'bootstrap': True, 'max_depth': 3, 'max_features': 4, 'n_estimators': 500}\n",
            "0.770 (+/-0.060), 0.032 seconds for {'bootstrap': True, 'max_depth': 3, 'max_features': 5, 'n_estimators': 10}\n",
            "0.870 (+/-0.038), 0.099 seconds for {'bootstrap': True, 'max_depth': 3, 'max_features': 5, 'n_estimators': 50}\n",
            "0.877 (+/-0.016), 0.183 seconds for {'bootstrap': True, 'max_depth': 3, 'max_features': 5, 'n_estimators': 100}\n",
            "0.884 (+/-0.024), 0.371 seconds for {'bootstrap': True, 'max_depth': 3, 'max_features': 5, 'n_estimators': 200}\n",
            "0.889 (+/-0.017), 0.895 seconds for {'bootstrap': True, 'max_depth': 3, 'max_features': 5, 'n_estimators': 500}\n",
            "0.784 (+/-0.038), 0.020 seconds for {'bootstrap': True, 'max_depth': 3, 'max_features': 6, 'n_estimators': 10}\n",
            "0.867 (+/-0.048), 0.094 seconds for {'bootstrap': True, 'max_depth': 3, 'max_features': 6, 'n_estimators': 50}\n",
            "0.886 (+/-0.026), 0.181 seconds for {'bootstrap': True, 'max_depth': 3, 'max_features': 6, 'n_estimators': 100}\n",
            "0.886 (+/-0.020), 0.365 seconds for {'bootstrap': True, 'max_depth': 3, 'max_features': 6, 'n_estimators': 200}\n",
            "0.884 (+/-0.017), 0.921 seconds for {'bootstrap': True, 'max_depth': 3, 'max_features': 6, 'n_estimators': 500}\n",
            "0.800 (+/-0.076), 0.025 seconds for {'bootstrap': True, 'max_depth': 3, 'max_features': 7, 'n_estimators': 10}\n",
            "0.877 (+/-0.040), 0.098 seconds for {'bootstrap': True, 'max_depth': 3, 'max_features': 7, 'n_estimators': 50}\n",
            "0.881 (+/-0.032), 0.195 seconds for {'bootstrap': True, 'max_depth': 3, 'max_features': 7, 'n_estimators': 100}\n",
            "0.878 (+/-0.027), 0.383 seconds for {'bootstrap': True, 'max_depth': 3, 'max_features': 7, 'n_estimators': 200}\n",
            "0.889 (+/-0.021), 0.969 seconds for {'bootstrap': True, 'max_depth': 3, 'max_features': 7, 'n_estimators': 500}\n",
            "0.778 (+/-0.068), 0.021 seconds for {'bootstrap': True, 'max_depth': 3, 'max_features': 8, 'n_estimators': 10}\n",
            "0.860 (+/-0.013), 0.100 seconds for {'bootstrap': True, 'max_depth': 3, 'max_features': 8, 'n_estimators': 50}\n",
            "0.879 (+/-0.023), 0.197 seconds for {'bootstrap': True, 'max_depth': 3, 'max_features': 8, 'n_estimators': 100}\n",
            "0.882 (+/-0.033), 0.387 seconds for {'bootstrap': True, 'max_depth': 3, 'max_features': 8, 'n_estimators': 200}\n",
            "0.883 (+/-0.015), 0.986 seconds for {'bootstrap': True, 'max_depth': 3, 'max_features': 8, 'n_estimators': 500}\n",
            "0.442 (+/-0.101), 0.013 seconds for {'bootstrap': False, 'max_depth': 1, 'max_features': 1, 'n_estimators': 10}\n",
            "0.639 (+/-0.055), 0.055 seconds for {'bootstrap': False, 'max_depth': 1, 'max_features': 1, 'n_estimators': 50}\n",
            "0.659 (+/-0.094), 0.106 seconds for {'bootstrap': False, 'max_depth': 1, 'max_features': 1, 'n_estimators': 100}\n",
            "0.713 (+/-0.095), 0.220 seconds for {'bootstrap': False, 'max_depth': 1, 'max_features': 1, 'n_estimators': 200}\n",
            "0.739 (+/-0.028), 0.547 seconds for {'bootstrap': False, 'max_depth': 1, 'max_features': 1, 'n_estimators': 500}\n",
            "0.426 (+/-0.099), 0.013 seconds for {'bootstrap': False, 'max_depth': 1, 'max_features': 2, 'n_estimators': 10}\n",
            "0.646 (+/-0.090), 0.058 seconds for {'bootstrap': False, 'max_depth': 1, 'max_features': 2, 'n_estimators': 50}\n",
            "0.711 (+/-0.051), 0.116 seconds for {'bootstrap': False, 'max_depth': 1, 'max_features': 2, 'n_estimators': 100}\n",
            "0.716 (+/-0.029), 0.228 seconds for {'bootstrap': False, 'max_depth': 1, 'max_features': 2, 'n_estimators': 200}\n",
            "0.743 (+/-0.044), 0.554 seconds for {'bootstrap': False, 'max_depth': 1, 'max_features': 2, 'n_estimators': 500}\n",
            "0.496 (+/-0.208), 0.012 seconds for {'bootstrap': False, 'max_depth': 1, 'max_features': 3, 'n_estimators': 10}\n",
            "0.648 (+/-0.072), 0.056 seconds for {'bootstrap': False, 'max_depth': 1, 'max_features': 3, 'n_estimators': 50}\n",
            "0.680 (+/-0.088), 0.115 seconds for {'bootstrap': False, 'max_depth': 1, 'max_features': 3, 'n_estimators': 100}\n",
            "0.739 (+/-0.053), 0.226 seconds for {'bootstrap': False, 'max_depth': 1, 'max_features': 3, 'n_estimators': 200}\n",
            "0.742 (+/-0.066), 0.645 seconds for {'bootstrap': False, 'max_depth': 1, 'max_features': 3, 'n_estimators': 500}\n",
            "0.470 (+/-0.140), 0.019 seconds for {'bootstrap': False, 'max_depth': 1, 'max_features': 4, 'n_estimators': 10}\n",
            "0.706 (+/-0.050), 0.080 seconds for {'bootstrap': False, 'max_depth': 1, 'max_features': 4, 'n_estimators': 50}\n",
            "0.687 (+/-0.082), 0.152 seconds for {'bootstrap': False, 'max_depth': 1, 'max_features': 4, 'n_estimators': 100}\n",
            "0.703 (+/-0.054), 0.296 seconds for {'bootstrap': False, 'max_depth': 1, 'max_features': 4, 'n_estimators': 200}\n",
            "0.719 (+/-0.058), 0.732 seconds for {'bootstrap': False, 'max_depth': 1, 'max_features': 4, 'n_estimators': 500}\n",
            "0.431 (+/-0.166), 0.016 seconds for {'bootstrap': False, 'max_depth': 1, 'max_features': 5, 'n_estimators': 10}\n",
            "0.657 (+/-0.082), 0.072 seconds for {'bootstrap': False, 'max_depth': 1, 'max_features': 5, 'n_estimators': 50}\n",
            "0.678 (+/-0.093), 0.150 seconds for {'bootstrap': False, 'max_depth': 1, 'max_features': 5, 'n_estimators': 100}\n",
            "0.693 (+/-0.064), 0.257 seconds for {'bootstrap': False, 'max_depth': 1, 'max_features': 5, 'n_estimators': 200}\n",
            "0.687 (+/-0.065), 0.699 seconds for {'bootstrap': False, 'max_depth': 1, 'max_features': 5, 'n_estimators': 500}\n",
            "0.523 (+/-0.194), 0.017 seconds for {'bootstrap': False, 'max_depth': 1, 'max_features': 6, 'n_estimators': 10}\n",
            "0.651 (+/-0.075), 0.082 seconds for {'bootstrap': False, 'max_depth': 1, 'max_features': 6, 'n_estimators': 50}\n",
            "0.647 (+/-0.084), 0.145 seconds for {'bootstrap': False, 'max_depth': 1, 'max_features': 6, 'n_estimators': 100}\n",
            "0.697 (+/-0.072), 0.307 seconds for {'bootstrap': False, 'max_depth': 1, 'max_features': 6, 'n_estimators': 200}\n",
            "0.668 (+/-0.074), 0.732 seconds for {'bootstrap': False, 'max_depth': 1, 'max_features': 6, 'n_estimators': 500}\n",
            "0.474 (+/-0.210), 0.015 seconds for {'bootstrap': False, 'max_depth': 1, 'max_features': 7, 'n_estimators': 10}\n",
            "0.615 (+/-0.087), 0.073 seconds for {'bootstrap': False, 'max_depth': 1, 'max_features': 7, 'n_estimators': 50}\n",
            "0.630 (+/-0.054), 0.162 seconds for {'bootstrap': False, 'max_depth': 1, 'max_features': 7, 'n_estimators': 100}\n",
            "0.639 (+/-0.062), 0.255 seconds for {'bootstrap': False, 'max_depth': 1, 'max_features': 7, 'n_estimators': 200}\n",
            "0.668 (+/-0.083), 0.614 seconds for {'bootstrap': False, 'max_depth': 1, 'max_features': 7, 'n_estimators': 500}\n",
            "0.531 (+/-0.132), 0.014 seconds for {'bootstrap': False, 'max_depth': 1, 'max_features': 8, 'n_estimators': 10}\n",
            "0.625 (+/-0.067), 0.065 seconds for {'bootstrap': False, 'max_depth': 1, 'max_features': 8, 'n_estimators': 50}\n",
            "0.643 (+/-0.094), 0.129 seconds for {'bootstrap': False, 'max_depth': 1, 'max_features': 8, 'n_estimators': 100}\n",
            "0.653 (+/-0.105), 0.251 seconds for {'bootstrap': False, 'max_depth': 1, 'max_features': 8, 'n_estimators': 200}\n",
            "0.669 (+/-0.065), 0.636 seconds for {'bootstrap': False, 'max_depth': 1, 'max_features': 8, 'n_estimators': 500}\n",
            "0.556 (+/-0.129), 0.013 seconds for {'bootstrap': False, 'max_depth': 2, 'max_features': 1, 'n_estimators': 10}\n",
            "0.791 (+/-0.043), 0.055 seconds for {'bootstrap': False, 'max_depth': 2, 'max_features': 1, 'n_estimators': 50}\n",
            "0.803 (+/-0.065), 0.111 seconds for {'bootstrap': False, 'max_depth': 2, 'max_features': 1, 'n_estimators': 100}\n",
            "0.828 (+/-0.033), 0.219 seconds for {'bootstrap': False, 'max_depth': 2, 'max_features': 1, 'n_estimators': 200}\n",
            "0.837 (+/-0.027), 0.545 seconds for {'bootstrap': False, 'max_depth': 2, 'max_features': 1, 'n_estimators': 500}\n",
            "0.657 (+/-0.051), 0.013 seconds for {'bootstrap': False, 'max_depth': 2, 'max_features': 2, 'n_estimators': 10}\n",
            "0.809 (+/-0.048), 0.057 seconds for {'bootstrap': False, 'max_depth': 2, 'max_features': 2, 'n_estimators': 50}\n",
            "0.828 (+/-0.062), 0.118 seconds for {'bootstrap': False, 'max_depth': 2, 'max_features': 2, 'n_estimators': 100}\n",
            "0.855 (+/-0.062), 0.232 seconds for {'bootstrap': False, 'max_depth': 2, 'max_features': 2, 'n_estimators': 200}\n",
            "0.859 (+/-0.040), 0.581 seconds for {'bootstrap': False, 'max_depth': 2, 'max_features': 2, 'n_estimators': 500}\n",
            "0.725 (+/-0.088), 0.014 seconds for {'bootstrap': False, 'max_depth': 2, 'max_features': 3, 'n_estimators': 10}\n",
            "0.818 (+/-0.033), 0.066 seconds for {'bootstrap': False, 'max_depth': 2, 'max_features': 3, 'n_estimators': 50}\n",
            "0.836 (+/-0.035), 0.123 seconds for {'bootstrap': False, 'max_depth': 2, 'max_features': 3, 'n_estimators': 100}\n",
            "0.833 (+/-0.047), 0.249 seconds for {'bootstrap': False, 'max_depth': 2, 'max_features': 3, 'n_estimators': 200}\n",
            "0.852 (+/-0.031), 0.637 seconds for {'bootstrap': False, 'max_depth': 2, 'max_features': 3, 'n_estimators': 500}\n",
            "0.680 (+/-0.106), 0.020 seconds for {'bootstrap': False, 'max_depth': 2, 'max_features': 4, 'n_estimators': 10}\n",
            "0.818 (+/-0.072), 0.080 seconds for {'bootstrap': False, 'max_depth': 2, 'max_features': 4, 'n_estimators': 50}\n",
            "0.835 (+/-0.034), 0.161 seconds for {'bootstrap': False, 'max_depth': 2, 'max_features': 4, 'n_estimators': 100}\n",
            "0.834 (+/-0.045), 0.370 seconds for {'bootstrap': False, 'max_depth': 2, 'max_features': 4, 'n_estimators': 200}\n",
            "0.843 (+/-0.065), 0.748 seconds for {'bootstrap': False, 'max_depth': 2, 'max_features': 4, 'n_estimators': 500}\n",
            "0.705 (+/-0.069), 0.017 seconds for {'bootstrap': False, 'max_depth': 2, 'max_features': 5, 'n_estimators': 10}\n",
            "0.819 (+/-0.096), 0.070 seconds for {'bootstrap': False, 'max_depth': 2, 'max_features': 5, 'n_estimators': 50}\n",
            "0.820 (+/-0.077), 0.137 seconds for {'bootstrap': False, 'max_depth': 2, 'max_features': 5, 'n_estimators': 100}\n",
            "0.824 (+/-0.060), 0.267 seconds for {'bootstrap': False, 'max_depth': 2, 'max_features': 5, 'n_estimators': 200}\n",
            "0.839 (+/-0.032), 0.682 seconds for {'bootstrap': False, 'max_depth': 2, 'max_features': 5, 'n_estimators': 500}\n",
            "0.657 (+/-0.086), 0.016 seconds for {'bootstrap': False, 'max_depth': 2, 'max_features': 6, 'n_estimators': 10}\n",
            "0.800 (+/-0.051), 0.071 seconds for {'bootstrap': False, 'max_depth': 2, 'max_features': 6, 'n_estimators': 50}\n",
            "0.808 (+/-0.049), 0.145 seconds for {'bootstrap': False, 'max_depth': 2, 'max_features': 6, 'n_estimators': 100}\n",
            "0.827 (+/-0.068), 0.295 seconds for {'bootstrap': False, 'max_depth': 2, 'max_features': 6, 'n_estimators': 200}\n",
            "0.828 (+/-0.053), 0.709 seconds for {'bootstrap': False, 'max_depth': 2, 'max_features': 6, 'n_estimators': 500}\n",
            "0.675 (+/-0.070), 0.016 seconds for {'bootstrap': False, 'max_depth': 2, 'max_features': 7, 'n_estimators': 10}\n",
            "0.799 (+/-0.073), 0.076 seconds for {'bootstrap': False, 'max_depth': 2, 'max_features': 7, 'n_estimators': 50}\n",
            "0.826 (+/-0.034), 0.150 seconds for {'bootstrap': False, 'max_depth': 2, 'max_features': 7, 'n_estimators': 100}\n",
            "0.817 (+/-0.051), 0.295 seconds for {'bootstrap': False, 'max_depth': 2, 'max_features': 7, 'n_estimators': 200}\n",
            "0.821 (+/-0.047), 0.746 seconds for {'bootstrap': False, 'max_depth': 2, 'max_features': 7, 'n_estimators': 500}\n",
            "0.681 (+/-0.139), 0.017 seconds for {'bootstrap': False, 'max_depth': 2, 'max_features': 8, 'n_estimators': 10}\n",
            "0.782 (+/-0.026), 0.078 seconds for {'bootstrap': False, 'max_depth': 2, 'max_features': 8, 'n_estimators': 50}\n",
            "0.794 (+/-0.040), 0.152 seconds for {'bootstrap': False, 'max_depth': 2, 'max_features': 8, 'n_estimators': 100}\n",
            "0.806 (+/-0.035), 0.304 seconds for {'bootstrap': False, 'max_depth': 2, 'max_features': 8, 'n_estimators': 200}\n",
            "0.810 (+/-0.057), 0.761 seconds for {'bootstrap': False, 'max_depth': 2, 'max_features': 8, 'n_estimators': 500}\n",
            "0.726 (+/-0.056), 0.013 seconds for {'bootstrap': False, 'max_depth': 3, 'max_features': 1, 'n_estimators': 10}\n",
            "0.846 (+/-0.051), 0.058 seconds for {'bootstrap': False, 'max_depth': 3, 'max_features': 1, 'n_estimators': 50}\n",
            "0.855 (+/-0.055), 0.114 seconds for {'bootstrap': False, 'max_depth': 3, 'max_features': 1, 'n_estimators': 100}\n",
            "0.865 (+/-0.030), 0.227 seconds for {'bootstrap': False, 'max_depth': 3, 'max_features': 1, 'n_estimators': 200}\n",
            "0.873 (+/-0.034), 0.576 seconds for {'bootstrap': False, 'max_depth': 3, 'max_features': 1, 'n_estimators': 500}\n",
            "0.728 (+/-0.127), 0.015 seconds for {'bootstrap': False, 'max_depth': 3, 'max_features': 2, 'n_estimators': 10}\n",
            "0.862 (+/-0.049), 0.063 seconds for {'bootstrap': False, 'max_depth': 3, 'max_features': 2, 'n_estimators': 50}\n",
            "0.867 (+/-0.037), 0.129 seconds for {'bootstrap': False, 'max_depth': 3, 'max_features': 2, 'n_estimators': 100}\n",
            "0.890 (+/-0.028), 0.250 seconds for {'bootstrap': False, 'max_depth': 3, 'max_features': 2, 'n_estimators': 200}\n",
            "0.893 (+/-0.040), 0.614 seconds for {'bootstrap': False, 'max_depth': 3, 'max_features': 2, 'n_estimators': 500}\n",
            "0.729 (+/-0.101), 0.015 seconds for {'bootstrap': False, 'max_depth': 3, 'max_features': 3, 'n_estimators': 10}\n",
            "0.857 (+/-0.035), 0.068 seconds for {'bootstrap': False, 'max_depth': 3, 'max_features': 3, 'n_estimators': 50}\n",
            "0.874 (+/-0.047), 0.135 seconds for {'bootstrap': False, 'max_depth': 3, 'max_features': 3, 'n_estimators': 100}\n",
            "0.901 (+/-0.035), 0.270 seconds for {'bootstrap': False, 'max_depth': 3, 'max_features': 3, 'n_estimators': 200}\n",
            "0.899 (+/-0.007), 0.667 seconds for {'bootstrap': False, 'max_depth': 3, 'max_features': 3, 'n_estimators': 500}\n",
            "0.779 (+/-0.058), 0.017 seconds for {'bootstrap': False, 'max_depth': 3, 'max_features': 4, 'n_estimators': 10}\n",
            "0.878 (+/-0.021), 0.072 seconds for {'bootstrap': False, 'max_depth': 3, 'max_features': 4, 'n_estimators': 50}\n",
            "0.878 (+/-0.043), 0.146 seconds for {'bootstrap': False, 'max_depth': 3, 'max_features': 4, 'n_estimators': 100}\n",
            "0.883 (+/-0.031), 0.287 seconds for {'bootstrap': False, 'max_depth': 3, 'max_features': 4, 'n_estimators': 200}\n",
            "0.883 (+/-0.025), 0.716 seconds for {'bootstrap': False, 'max_depth': 3, 'max_features': 4, 'n_estimators': 500}\n",
            "0.773 (+/-0.044), 0.021 seconds for {'bootstrap': False, 'max_depth': 3, 'max_features': 5, 'n_estimators': 10}\n",
            "0.864 (+/-0.052), 0.078 seconds for {'bootstrap': False, 'max_depth': 3, 'max_features': 5, 'n_estimators': 50}\n",
            "0.865 (+/-0.030), 0.158 seconds for {'bootstrap': False, 'max_depth': 3, 'max_features': 5, 'n_estimators': 100}\n",
            "0.883 (+/-0.010), 0.311 seconds for {'bootstrap': False, 'max_depth': 3, 'max_features': 5, 'n_estimators': 200}\n",
            "0.886 (+/-0.036), 0.766 seconds for {'bootstrap': False, 'max_depth': 3, 'max_features': 5, 'n_estimators': 500}\n",
            "0.788 (+/-0.067), 0.021 seconds for {'bootstrap': False, 'max_depth': 3, 'max_features': 6, 'n_estimators': 10}\n",
            "0.869 (+/-0.022), 0.083 seconds for {'bootstrap': False, 'max_depth': 3, 'max_features': 6, 'n_estimators': 50}\n",
            "0.871 (+/-0.021), 0.164 seconds for {'bootstrap': False, 'max_depth': 3, 'max_features': 6, 'n_estimators': 100}\n",
            "0.871 (+/-0.049), 0.333 seconds for {'bootstrap': False, 'max_depth': 3, 'max_features': 6, 'n_estimators': 200}\n",
            "0.882 (+/-0.024), 0.840 seconds for {'bootstrap': False, 'max_depth': 3, 'max_features': 6, 'n_estimators': 500}\n",
            "0.793 (+/-0.064), 0.020 seconds for {'bootstrap': False, 'max_depth': 3, 'max_features': 7, 'n_estimators': 10}\n",
            "0.861 (+/-0.025), 0.092 seconds for {'bootstrap': False, 'max_depth': 3, 'max_features': 7, 'n_estimators': 50}\n",
            "0.875 (+/-0.018), 0.177 seconds for {'bootstrap': False, 'max_depth': 3, 'max_features': 7, 'n_estimators': 100}\n",
            "0.877 (+/-0.018), 0.352 seconds for {'bootstrap': False, 'max_depth': 3, 'max_features': 7, 'n_estimators': 200}\n",
            "0.875 (+/-0.034), 0.886 seconds for {'bootstrap': False, 'max_depth': 3, 'max_features': 7, 'n_estimators': 500}\n",
            "0.788 (+/-0.064), 0.019 seconds for {'bootstrap': False, 'max_depth': 3, 'max_features': 8, 'n_estimators': 10}\n",
            "0.871 (+/-0.050), 0.093 seconds for {'bootstrap': False, 'max_depth': 3, 'max_features': 8, 'n_estimators': 50}\n",
            "0.861 (+/-0.034), 0.184 seconds for {'bootstrap': False, 'max_depth': 3, 'max_features': 8, 'n_estimators': 100}\n",
            "0.870 (+/-0.030), 0.370 seconds for {'bootstrap': False, 'max_depth': 3, 'max_features': 8, 'n_estimators': 200}\n",
            "0.873 (+/-0.024), 0.899 seconds for {'bootstrap': False, 'max_depth': 3, 'max_features': 8, 'n_estimators': 500}\n",
            "\n"
          ],
          "name": "stdout"
        }
      ]
    },
    {
      "cell_type": "markdown",
      "metadata": {
        "id": "TG1RpJhzc0WE"
      },
      "source": [
        "### Calculating time for hyperparameter search on XGBoost Classifier using Grid Search CV"
      ]
    },
    {
      "cell_type": "code",
      "metadata": {
        "id": "w-eoLnLrcvuM",
        "outputId": "5e76cb7e-84de-4940-bd01-6b6b07082648",
        "colab": {
          "base_uri": "https://localhost:8080/",
          "height": 34
        }
      },
      "source": [
        "start = time()\n",
        "gridsearch = GridSearchCV(estimator = xgbclf, param_grid=param_grid_xgb, scoring='f1_macro')\n",
        "gridsearch.fit(X_train, y_train)\n",
        "end = time()\n",
        "print(f\"Time taken for XGBoost Classifier using Grid Search: {end - start}\")"
      ],
      "execution_count": 13,
      "outputs": [
        {
          "output_type": "stream",
          "text": [
            "Time taken for XGBoost Classifier using Grid Search: 448.2015211582184\n"
          ],
          "name": "stdout"
        }
      ]
    },
    {
      "cell_type": "markdown",
      "metadata": {
        "id": "eYaksBn3gi8L"
      },
      "source": [
        "### Displaying Best Parameters for XGBoost using Grid Search CV and means and standard deviation for all the possibilities of parameter combinations"
      ]
    },
    {
      "cell_type": "code",
      "metadata": {
        "id": "-707CvSnc4_F",
        "outputId": "02825995-8406-4660-b0bd-28fcc573359c",
        "colab": {
          "base_uri": "https://localhost:8080/",
          "height": 901
        }
      },
      "source": [
        "print(\"Best parameters set found on development set for XGBoost:\")\n",
        "print()\n",
        "print(gridsearch.best_params_)\n",
        "print()\n",
        "print(\"Grid scores on development set:\")\n",
        "print()\n",
        "means = gridsearch.cv_results_['mean_test_score']\n",
        "stds = gridsearch.cv_results_['std_test_score']\n",
        "fit_times = gridsearch.cv_results_['mean_fit_time']\n",
        "for mean, std, fit_time, params in zip(means, stds, fit_times, gridsearch.cv_results_['params']):\n",
        "    print(\"%0.3f (+/-%0.03f), %0.3f seconds for %r\"\n",
        "          % (mean, std * 2, fit_time, params))\n",
        "print()"
      ],
      "execution_count": 14,
      "outputs": [
        {
          "output_type": "stream",
          "text": [
            "Best parameters set found on development set for XGBoost:\n",
            "\n",
            "{'learning_rate': 1, 'max_depth': 1, 'n_estimators': 200}\n",
            "\n",
            "Grid scores on development set:\n",
            "\n",
            "0.706 (+/-0.012), 0.105 seconds for {'learning_rate': 0.1, 'max_depth': 1, 'n_estimators': 10}\n",
            "0.869 (+/-0.027), 0.448 seconds for {'learning_rate': 0.1, 'max_depth': 1, 'n_estimators': 50}\n",
            "0.909 (+/-0.028), 0.874 seconds for {'learning_rate': 0.1, 'max_depth': 1, 'n_estimators': 100}\n",
            "0.940 (+/-0.026), 1.777 seconds for {'learning_rate': 0.1, 'max_depth': 1, 'n_estimators': 200}\n",
            "0.955 (+/-0.021), 4.364 seconds for {'learning_rate': 0.1, 'max_depth': 1, 'n_estimators': 500}\n",
            "0.833 (+/-0.038), 0.153 seconds for {'learning_rate': 0.1, 'max_depth': 2, 'n_estimators': 10}\n",
            "0.925 (+/-0.027), 0.698 seconds for {'learning_rate': 0.1, 'max_depth': 2, 'n_estimators': 50}\n",
            "0.950 (+/-0.015), 1.381 seconds for {'learning_rate': 0.1, 'max_depth': 2, 'n_estimators': 100}\n",
            "0.953 (+/-0.018), 2.702 seconds for {'learning_rate': 0.1, 'max_depth': 2, 'n_estimators': 200}\n",
            "0.958 (+/-0.022), 6.206 seconds for {'learning_rate': 0.1, 'max_depth': 2, 'n_estimators': 500}\n",
            "0.880 (+/-0.036), 0.203 seconds for {'learning_rate': 0.1, 'max_depth': 3, 'n_estimators': 10}\n",
            "0.942 (+/-0.018), 0.976 seconds for {'learning_rate': 0.1, 'max_depth': 3, 'n_estimators': 50}\n",
            "0.954 (+/-0.016), 1.940 seconds for {'learning_rate': 0.1, 'max_depth': 3, 'n_estimators': 100}\n",
            "0.954 (+/-0.022), 3.585 seconds for {'learning_rate': 0.1, 'max_depth': 3, 'n_estimators': 200}\n",
            "0.957 (+/-0.018), 7.069 seconds for {'learning_rate': 0.1, 'max_depth': 3, 'n_estimators': 500}\n",
            "0.789 (+/-0.017), 0.102 seconds for {'learning_rate': 0.2, 'max_depth': 1, 'n_estimators': 10}\n",
            "0.911 (+/-0.021), 0.457 seconds for {'learning_rate': 0.2, 'max_depth': 1, 'n_estimators': 50}\n",
            "0.938 (+/-0.024), 0.895 seconds for {'learning_rate': 0.2, 'max_depth': 1, 'n_estimators': 100}\n",
            "0.951 (+/-0.024), 1.753 seconds for {'learning_rate': 0.2, 'max_depth': 1, 'n_estimators': 200}\n",
            "0.958 (+/-0.024), 4.358 seconds for {'learning_rate': 0.2, 'max_depth': 1, 'n_estimators': 500}\n",
            "0.874 (+/-0.030), 0.150 seconds for {'learning_rate': 0.2, 'max_depth': 2, 'n_estimators': 10}\n",
            "0.948 (+/-0.017), 0.694 seconds for {'learning_rate': 0.2, 'max_depth': 2, 'n_estimators': 50}\n",
            "0.954 (+/-0.021), 1.356 seconds for {'learning_rate': 0.2, 'max_depth': 2, 'n_estimators': 100}\n",
            "0.958 (+/-0.022), 2.574 seconds for {'learning_rate': 0.2, 'max_depth': 2, 'n_estimators': 200}\n",
            "0.959 (+/-0.018), 5.877 seconds for {'learning_rate': 0.2, 'max_depth': 2, 'n_estimators': 500}\n",
            "0.907 (+/-0.021), 0.217 seconds for {'learning_rate': 0.2, 'max_depth': 3, 'n_estimators': 10}\n",
            "0.953 (+/-0.023), 1.043 seconds for {'learning_rate': 0.2, 'max_depth': 3, 'n_estimators': 50}\n",
            "0.957 (+/-0.021), 1.886 seconds for {'learning_rate': 0.2, 'max_depth': 3, 'n_estimators': 100}\n",
            "0.958 (+/-0.020), 2.996 seconds for {'learning_rate': 0.2, 'max_depth': 3, 'n_estimators': 200}\n",
            "0.957 (+/-0.024), 5.913 seconds for {'learning_rate': 0.2, 'max_depth': 3, 'n_estimators': 500}\n",
            "0.888 (+/-0.030), 0.104 seconds for {'learning_rate': 1, 'max_depth': 1, 'n_estimators': 10}\n",
            "0.951 (+/-0.039), 0.451 seconds for {'learning_rate': 1, 'max_depth': 1, 'n_estimators': 50}\n",
            "0.958 (+/-0.034), 0.904 seconds for {'learning_rate': 1, 'max_depth': 1, 'n_estimators': 100}\n",
            "0.961 (+/-0.020), 1.777 seconds for {'learning_rate': 1, 'max_depth': 1, 'n_estimators': 200}\n",
            "0.961 (+/-0.021), 4.336 seconds for {'learning_rate': 1, 'max_depth': 1, 'n_estimators': 500}\n",
            "0.931 (+/-0.026), 0.152 seconds for {'learning_rate': 1, 'max_depth': 2, 'n_estimators': 10}\n",
            "0.946 (+/-0.018), 0.621 seconds for {'learning_rate': 1, 'max_depth': 2, 'n_estimators': 50}\n",
            "0.948 (+/-0.020), 1.123 seconds for {'learning_rate': 1, 'max_depth': 2, 'n_estimators': 100}\n",
            "0.946 (+/-0.020), 2.049 seconds for {'learning_rate': 1, 'max_depth': 2, 'n_estimators': 200}\n",
            "0.947 (+/-0.021), 5.232 seconds for {'learning_rate': 1, 'max_depth': 2, 'n_estimators': 500}\n",
            "0.934 (+/-0.039), 0.252 seconds for {'learning_rate': 1, 'max_depth': 3, 'n_estimators': 10}\n",
            "0.948 (+/-0.030), 0.698 seconds for {'learning_rate': 1, 'max_depth': 3, 'n_estimators': 50}\n",
            "0.949 (+/-0.023), 1.151 seconds for {'learning_rate': 1, 'max_depth': 3, 'n_estimators': 100}\n",
            "0.949 (+/-0.029), 2.081 seconds for {'learning_rate': 1, 'max_depth': 3, 'n_estimators': 200}\n",
            "0.949 (+/-0.027), 4.709 seconds for {'learning_rate': 1, 'max_depth': 3, 'n_estimators': 500}\n",
            "\n"
          ],
          "name": "stdout"
        }
      ]
    },
    {
      "cell_type": "markdown",
      "metadata": {
        "id": "sNAdsafCqsdp"
      },
      "source": [
        "## Randomized Search CV"
      ]
    },
    {
      "cell_type": "markdown",
      "metadata": {
        "id": "V4tQ1lJLiEu8"
      },
      "source": [
        "### Calculating time for hyperparameter search on Random Forest Classifier using Randomized Search CV"
      ]
    },
    {
      "cell_type": "code",
      "metadata": {
        "id": "217OFBrSgD30",
        "outputId": "754e36cc-0b6e-4d1a-f990-17c7904400fb",
        "colab": {
          "base_uri": "https://localhost:8080/",
          "height": 34
        }
      },
      "source": [
        "n_iter = 20\n",
        "start = time()\n",
        "randomsearch = RandomizedSearchCV(estimator=randomforestclf, param_distributions=param_grid_rf, scoring=\"f1_macro\", n_iter=n_iter)\n",
        "randomsearch.fit(X_train,y_train)\n",
        "end = time()\n",
        "print(f\"Time taken for Randomized Search CV : {end - start}\")"
      ],
      "execution_count": 28,
      "outputs": [
        {
          "output_type": "stream",
          "text": [
            "Time taken for Randomized Search CV : 25.610801696777344\n"
          ],
          "name": "stdout"
        }
      ]
    },
    {
      "cell_type": "markdown",
      "metadata": {
        "id": "AWE5Crd0ihgx"
      },
      "source": [
        "### Displaying Best Parameters for Random Forest using Randomized Search CV and means, standard deviations and fitting time for all the possibilities of parameter combinations"
      ]
    },
    {
      "cell_type": "code",
      "metadata": {
        "id": "rFlKP6xMiZhr",
        "outputId": "5d140b6f-48bf-46ab-a6a0-d9351ddf02cb",
        "colab": {
          "base_uri": "https://localhost:8080/",
          "height": 1000
        }
      },
      "source": [
        "print(\"Best parameters set found on development set:\")\n",
        "print()\n",
        "print(randomsearch.best_params_)\n",
        "print()\n",
        "print(\"Randomized scores on development set:\")\n",
        "print()\n",
        "means = randomsearch.cv_results_['mean_test_score']\n",
        "stds = randomsearch.cv_results_['std_test_score']\n",
        "fit_times = randomsearch.cv_results_['mean_fit_time']\n",
        "for mean, std, fit_time, params in zip(means, stds, fit_times, randomsearch.cv_results_['params']):\n",
        "    print(\"%0.3f (+/-%0.03f), %0.3f seconds for %r\"\n",
        "          % (mean, std * 2, fit_time, params))\n",
        "print()\n",
        "print(\"Classification Report\")\n",
        "print()\n",
        "y_pred = randomsearch.predict(X_test)\n",
        "print(classification_report(y_true, y_pred))\n",
        "print()"
      ],
      "execution_count": 22,
      "outputs": [
        {
          "output_type": "stream",
          "text": [
            "Best parameters set found on development set:\n",
            "\n",
            "{'n_estimators': 500, 'max_features': 5, 'max_depth': 3, 'bootstrap': True}\n",
            "\n",
            "Randomized scores on development set:\n",
            "\n",
            "0.724 (+/-0.047), 0.313 seconds for {'n_estimators': 200, 'max_features': 4, 'max_depth': 1, 'bootstrap': True}\n",
            "0.844 (+/-0.047), 0.090 seconds for {'n_estimators': 50, 'max_features': 5, 'max_depth': 3, 'bootstrap': True}\n",
            "0.506 (+/-0.210), 0.013 seconds for {'n_estimators': 10, 'max_features': 4, 'max_depth': 1, 'bootstrap': False}\n",
            "0.867 (+/-0.018), 0.181 seconds for {'n_estimators': 100, 'max_features': 8, 'max_depth': 3, 'bootstrap': False}\n",
            "0.821 (+/-0.031), 0.221 seconds for {'n_estimators': 200, 'max_features': 1, 'max_depth': 2, 'bootstrap': False}\n",
            "0.612 (+/-0.058), 0.066 seconds for {'n_estimators': 50, 'max_features': 8, 'max_depth': 1, 'bootstrap': False}\n",
            "0.888 (+/-0.026), 0.347 seconds for {'n_estimators': 200, 'max_features': 4, 'max_depth': 3, 'bootstrap': True}\n",
            "0.666 (+/-0.062), 0.325 seconds for {'n_estimators': 200, 'max_features': 7, 'max_depth': 1, 'bootstrap': True}\n",
            "0.802 (+/-0.054), 0.019 seconds for {'n_estimators': 10, 'max_features': 7, 'max_depth': 3, 'bootstrap': False}\n",
            "0.532 (+/-0.074), 0.014 seconds for {'n_estimators': 10, 'max_features': 1, 'max_depth': 2, 'bootstrap': False}\n",
            "0.893 (+/-0.035), 0.149 seconds for {'n_estimators': 100, 'max_features': 4, 'max_depth': 3, 'bootstrap': False}\n",
            "0.672 (+/-0.045), 0.016 seconds for {'n_estimators': 10, 'max_features': 7, 'max_depth': 2, 'bootstrap': False}\n",
            "0.818 (+/-0.042), 0.078 seconds for {'n_estimators': 50, 'max_features': 2, 'max_depth': 2, 'bootstrap': True}\n",
            "0.831 (+/-0.045), 0.152 seconds for {'n_estimators': 100, 'max_features': 2, 'max_depth': 2, 'bootstrap': True}\n",
            "0.799 (+/-0.068), 0.059 seconds for {'n_estimators': 50, 'max_features': 2, 'max_depth': 2, 'bootstrap': False}\n",
            "0.868 (+/-0.019), 0.175 seconds for {'n_estimators': 100, 'max_features': 7, 'max_depth': 3, 'bootstrap': False}\n",
            "0.883 (+/-0.029), 0.135 seconds for {'n_estimators': 100, 'max_features': 3, 'max_depth': 3, 'bootstrap': False}\n",
            "0.819 (+/-0.065), 0.296 seconds for {'n_estimators': 200, 'max_features': 7, 'max_depth': 2, 'bootstrap': False}\n",
            "0.864 (+/-0.051), 0.154 seconds for {'n_estimators': 100, 'max_features': 5, 'max_depth': 3, 'bootstrap': False}\n",
            "0.788 (+/-0.059), 0.078 seconds for {'n_estimators': 50, 'max_features': 8, 'max_depth': 2, 'bootstrap': False}\n",
            "0.470 (+/-0.089), 0.014 seconds for {'n_estimators': 10, 'max_features': 3, 'max_depth': 1, 'bootstrap': False}\n",
            "0.890 (+/-0.023), 0.317 seconds for {'n_estimators': 200, 'max_features': 2, 'max_depth': 3, 'bootstrap': True}\n",
            "0.889 (+/-0.030), 0.776 seconds for {'n_estimators': 500, 'max_features': 5, 'max_depth': 3, 'bootstrap': False}\n",
            "0.836 (+/-0.047), 0.672 seconds for {'n_estimators': 500, 'max_features': 5, 'max_depth': 2, 'bootstrap': False}\n",
            "0.592 (+/-0.087), 0.082 seconds for {'n_estimators': 50, 'max_features': 7, 'max_depth': 1, 'bootstrap': True}\n",
            "0.823 (+/-0.029), 0.149 seconds for {'n_estimators': 100, 'max_features': 1, 'max_depth': 2, 'bootstrap': True}\n",
            "0.684 (+/-0.120), 0.018 seconds for {'n_estimators': 10, 'max_features': 6, 'max_depth': 2, 'bootstrap': True}\n",
            "0.815 (+/-0.043), 0.772 seconds for {'n_estimators': 500, 'max_features': 8, 'max_depth': 2, 'bootstrap': False}\n",
            "0.822 (+/-0.038), 0.171 seconds for {'n_estimators': 100, 'max_features': 6, 'max_depth': 2, 'bootstrap': True}\n",
            "0.863 (+/-0.030), 0.232 seconds for {'n_estimators': 200, 'max_features': 1, 'max_depth': 3, 'bootstrap': False}\n",
            "0.814 (+/-0.038), 0.138 seconds for {'n_estimators': 100, 'max_features': 5, 'max_depth': 2, 'bootstrap': False}\n",
            "0.816 (+/-0.030), 0.179 seconds for {'n_estimators': 100, 'max_features': 8, 'max_depth': 2, 'bootstrap': True}\n",
            "0.852 (+/-0.059), 0.307 seconds for {'n_estimators': 200, 'max_features': 2, 'max_depth': 2, 'bootstrap': True}\n",
            "0.817 (+/-0.072), 0.285 seconds for {'n_estimators': 200, 'max_features': 6, 'max_depth': 2, 'bootstrap': False}\n",
            "0.823 (+/-0.052), 0.145 seconds for {'n_estimators': 100, 'max_features': 6, 'max_depth': 2, 'bootstrap': False}\n",
            "0.862 (+/-0.049), 0.086 seconds for {'n_estimators': 50, 'max_features': 7, 'max_depth': 3, 'bootstrap': False}\n",
            "0.678 (+/-0.058), 0.078 seconds for {'n_estimators': 50, 'max_features': 3, 'max_depth': 1, 'bootstrap': True}\n",
            "0.783 (+/-0.013), 0.075 seconds for {'n_estimators': 50, 'max_features': 1, 'max_depth': 2, 'bootstrap': True}\n",
            "0.784 (+/-0.097), 0.072 seconds for {'n_estimators': 50, 'max_features': 6, 'max_depth': 2, 'bootstrap': False}\n",
            "0.818 (+/-0.057), 0.178 seconds for {'n_estimators': 100, 'max_features': 7, 'max_depth': 2, 'bootstrap': True}\n",
            "0.435 (+/-0.196), 0.017 seconds for {'n_estimators': 10, 'max_features': 6, 'max_depth': 1, 'bootstrap': True}\n",
            "0.857 (+/-0.048), 0.581 seconds for {'n_estimators': 500, 'max_features': 2, 'max_depth': 2, 'bootstrap': False}\n",
            "0.824 (+/-0.046), 0.359 seconds for {'n_estimators': 200, 'max_features': 7, 'max_depth': 2, 'bootstrap': True}\n",
            "0.844 (+/-0.030), 0.181 seconds for {'n_estimators': 100, 'max_features': 4, 'max_depth': 2, 'bootstrap': True}\n",
            "0.799 (+/-0.034), 0.166 seconds for {'n_estimators': 100, 'max_features': 8, 'max_depth': 2, 'bootstrap': False}\n",
            "0.674 (+/-0.083), 0.076 seconds for {'n_estimators': 50, 'max_features': 5, 'max_depth': 1, 'bootstrap': False}\n",
            "0.743 (+/-0.039), 0.804 seconds for {'n_estimators': 500, 'max_features': 1, 'max_depth': 1, 'bootstrap': True}\n",
            "0.409 (+/-0.101), 0.012 seconds for {'n_estimators': 10, 'max_features': 1, 'max_depth': 1, 'bootstrap': False}\n",
            "0.844 (+/-0.049), 0.803 seconds for {'n_estimators': 500, 'max_features': 5, 'max_depth': 2, 'bootstrap': True}\n",
            "0.877 (+/-0.027), 0.193 seconds for {'n_estimators': 100, 'max_features': 8, 'max_depth': 3, 'bootstrap': True}\n",
            "0.750 (+/-0.082), 0.147 seconds for {'n_estimators': 100, 'max_features': 3, 'max_depth': 1, 'bootstrap': True}\n",
            "0.617 (+/-0.048), 0.079 seconds for {'n_estimators': 50, 'max_features': 8, 'max_depth': 1, 'bootstrap': True}\n",
            "0.820 (+/-0.030), 0.084 seconds for {'n_estimators': 50, 'max_features': 5, 'max_depth': 2, 'bootstrap': True}\n",
            "0.856 (+/-0.031), 0.763 seconds for {'n_estimators': 500, 'max_features': 3, 'max_depth': 2, 'bootstrap': True}\n",
            "0.876 (+/-0.034), 0.183 seconds for {'n_estimators': 100, 'max_features': 7, 'max_depth': 3, 'bootstrap': True}\n",
            "0.696 (+/-0.091), 0.208 seconds for {'n_estimators': 200, 'max_features': 1, 'max_depth': 1, 'bootstrap': False}\n",
            "0.622 (+/-0.083), 0.157 seconds for {'n_estimators': 100, 'max_features': 8, 'max_depth': 1, 'bootstrap': True}\n",
            "0.878 (+/-0.016), 0.177 seconds for {'n_estimators': 100, 'max_features': 5, 'max_depth': 3, 'bootstrap': True}\n",
            "0.882 (+/-0.021), 0.793 seconds for {'n_estimators': 500, 'max_features': 6, 'max_depth': 3, 'bootstrap': False}\n",
            "0.717 (+/-0.109), 0.108 seconds for {'n_estimators': 100, 'max_features': 2, 'max_depth': 1, 'bootstrap': False}\n",
            "0.727 (+/-0.084), 0.209 seconds for {'n_estimators': 200, 'max_features': 2, 'max_depth': 1, 'bootstrap': False}\n",
            "0.687 (+/-0.046), 0.770 seconds for {'n_estimators': 500, 'max_features': 8, 'max_depth': 1, 'bootstrap': True}\n",
            "0.833 (+/-0.051), 0.264 seconds for {'n_estimators': 200, 'max_features': 5, 'max_depth': 2, 'bootstrap': False}\n",
            "0.875 (+/-0.024), 0.335 seconds for {'n_estimators': 200, 'max_features': 7, 'max_depth': 3, 'bootstrap': False}\n",
            "0.790 (+/-0.055), 0.085 seconds for {'n_estimators': 50, 'max_features': 6, 'max_depth': 2, 'bootstrap': True}\n",
            "0.675 (+/-0.106), 0.061 seconds for {'n_estimators': 50, 'max_features': 4, 'max_depth': 1, 'bootstrap': False}\n",
            "0.623 (+/-0.120), 0.066 seconds for {'n_estimators': 50, 'max_features': 7, 'max_depth': 1, 'bootstrap': False}\n",
            "0.859 (+/-0.052), 0.080 seconds for {'n_estimators': 50, 'max_features': 2, 'max_depth': 3, 'bootstrap': True}\n",
            "0.853 (+/-0.049), 0.799 seconds for {'n_estimators': 500, 'max_features': 4, 'max_depth': 2, 'bootstrap': True}\n",
            "0.664 (+/-0.074), 0.013 seconds for {'n_estimators': 10, 'max_features': 3, 'max_depth': 2, 'bootstrap': False}\n",
            "0.847 (+/-0.016), 0.731 seconds for {'n_estimators': 500, 'max_features': 1, 'max_depth': 2, 'bootstrap': True}\n",
            "0.718 (+/-0.051), 0.749 seconds for {'n_estimators': 500, 'max_features': 5, 'max_depth': 1, 'bootstrap': True}\n",
            "0.626 (+/-0.094), 0.053 seconds for {'n_estimators': 50, 'max_features': 1, 'max_depth': 1, 'bootstrap': False}\n",
            "0.708 (+/-0.057), 0.554 seconds for {'n_estimators': 500, 'max_features': 3, 'max_depth': 1, 'bootstrap': False}\n",
            "0.824 (+/-0.060), 0.060 seconds for {'n_estimators': 50, 'max_features': 3, 'max_depth': 2, 'bootstrap': False}\n",
            "0.837 (+/-0.040), 0.123 seconds for {'n_estimators': 100, 'max_features': 3, 'max_depth': 2, 'bootstrap': False}\n",
            "0.423 (+/-0.037), 0.015 seconds for {'n_estimators': 10, 'max_features': 2, 'max_depth': 1, 'bootstrap': True}\n",
            "0.864 (+/-0.012), 0.090 seconds for {'n_estimators': 50, 'max_features': 8, 'max_depth': 3, 'bootstrap': False}\n",
            "0.635 (+/-0.101), 0.062 seconds for {'n_estimators': 50, 'max_features': 6, 'max_depth': 1, 'bootstrap': False}\n",
            "0.505 (+/-0.182), 0.017 seconds for {'n_estimators': 10, 'max_features': 4, 'max_depth': 1, 'bootstrap': True}\n",
            "0.699 (+/-0.092), 0.018 seconds for {'n_estimators': 10, 'max_features': 5, 'max_depth': 2, 'bootstrap': True}\n",
            "0.727 (+/-0.113), 0.289 seconds for {'n_estimators': 200, 'max_features': 1, 'max_depth': 1, 'bootstrap': True}\n",
            "0.846 (+/-0.031), 0.638 seconds for {'n_estimators': 500, 'max_features': 4, 'max_depth': 2, 'bootstrap': False}\n",
            "0.747 (+/-0.079), 0.743 seconds for {'n_estimators': 500, 'max_features': 4, 'max_depth': 1, 'bootstrap': True}\n",
            "0.820 (+/-0.069), 0.867 seconds for {'n_estimators': 500, 'max_features': 8, 'max_depth': 2, 'bootstrap': True}\n",
            "0.753 (+/-0.076), 0.019 seconds for {'n_estimators': 10, 'max_features': 4, 'max_depth': 3, 'bootstrap': True}\n",
            "0.494 (+/-0.081), 0.020 seconds for {'n_estimators': 10, 'max_features': 7, 'max_depth': 1, 'bootstrap': True}\n",
            "0.891 (+/-0.016), 0.123 seconds for {'n_estimators': 100, 'max_features': 2, 'max_depth': 3, 'bootstrap': False}\n",
            "0.838 (+/-0.043), 0.253 seconds for {'n_estimators': 200, 'max_features': 4, 'max_depth': 2, 'bootstrap': False}\n",
            "0.689 (+/-0.105), 0.057 seconds for {'n_estimators': 50, 'max_features': 3, 'max_depth': 1, 'bootstrap': False}\n",
            "0.807 (+/-0.055), 0.085 seconds for {'n_estimators': 50, 'max_features': 7, 'max_depth': 2, 'bootstrap': True}\n",
            "0.682 (+/-0.067), 0.243 seconds for {'n_estimators': 200, 'max_features': 6, 'max_depth': 1, 'bootstrap': False}\n",
            "0.896 (+/-0.025), 0.873 seconds for {'n_estimators': 500, 'max_features': 5, 'max_depth': 3, 'bootstrap': True}\n",
            "0.874 (+/-0.039), 0.329 seconds for {'n_estimators': 200, 'max_features': 1, 'max_depth': 3, 'bootstrap': True}\n",
            "0.879 (+/-0.023), 0.842 seconds for {'n_estimators': 500, 'max_features': 1, 'max_depth': 3, 'bootstrap': True}\n",
            "0.711 (+/-0.083), 0.341 seconds for {'n_estimators': 200, 'max_features': 5, 'max_depth': 1, 'bootstrap': True}\n",
            "0.860 (+/-0.047), 0.101 seconds for {'n_estimators': 50, 'max_features': 6, 'max_depth': 3, 'bootstrap': True}\n",
            "0.718 (+/-0.071), 0.254 seconds for {'n_estimators': 200, 'max_features': 4, 'max_depth': 1, 'bootstrap': False}\n",
            "0.845 (+/-0.041), 0.253 seconds for {'n_estimators': 200, 'max_features': 2, 'max_depth': 2, 'bootstrap': False}\n",
            "0.690 (+/-0.078), 0.019 seconds for {'n_estimators': 10, 'max_features': 8, 'max_depth': 2, 'bootstrap': True}\n",
            "\n",
            "Classification Report\n",
            "\n",
            "              precision    recall  f1-score   support\n",
            "\n",
            "           0       0.94      0.97      0.96        33\n",
            "           1       0.71      0.89      0.79        28\n",
            "           2       0.89      0.97      0.93        33\n",
            "           3       1.00      0.94      0.97        34\n",
            "           4       0.93      0.91      0.92        46\n",
            "           5       0.93      0.83      0.88        47\n",
            "           6       0.97      0.97      0.97        35\n",
            "           7       0.80      0.94      0.86        34\n",
            "           8       1.00      0.63      0.78        30\n",
            "           9       0.81      0.85      0.83        40\n",
            "\n",
            "    accuracy                           0.89       360\n",
            "   macro avg       0.90      0.89      0.89       360\n",
            "weighted avg       0.90      0.89      0.89       360\n",
            "\n",
            "\n"
          ],
          "name": "stdout"
        }
      ]
    },
    {
      "cell_type": "markdown",
      "metadata": {
        "id": "1Yfh3fBWq_V2"
      },
      "source": [
        "### Calculating time for hyperparameter search on XGBoost Classifier using Randomized Search CV"
      ]
    },
    {
      "cell_type": "code",
      "metadata": {
        "id": "Ev3FpqY1iwoX",
        "outputId": "2188450a-d291-40ce-f065-89225fcbf830",
        "colab": {
          "base_uri": "https://localhost:8080/",
          "height": 34
        }
      },
      "source": [
        "n_iter = 20\n",
        "start = time()\n",
        "randomsearch = RandomizedSearchCV(estimator=xgbclf, param_distributions=param_grid_xgb, scoring=\"f1_macro\", n_iter=n_iter)\n",
        "randomsearch.fit(X_train,y_train)\n",
        "end = time()\n",
        "print(f\"Time taken for Randomized Search CV : {end - start}\")"
      ],
      "execution_count": 26,
      "outputs": [
        {
          "output_type": "stream",
          "text": [
            "Time taken for Randomized Search CV : 230.935227394104\n"
          ],
          "name": "stdout"
        }
      ]
    },
    {
      "cell_type": "markdown",
      "metadata": {
        "id": "AYrwWxJjrSOH"
      },
      "source": [
        "### Displaying Best Parameters for XGBoost Classifier using Randomized Search CV and means, standard deviations and fitting time for all the possibilities of parameter combinations"
      ]
    },
    {
      "cell_type": "code",
      "metadata": {
        "id": "zim-Dxy3rNsN",
        "outputId": "e38f7223-e88b-4d48-8cbe-53bab428af84",
        "colab": {
          "base_uri": "https://localhost:8080/",
          "height": 816
        }
      },
      "source": [
        "print(\"Best parameters set found on development set for XGBoost Classifier:\")\n",
        "print()\n",
        "print(randomsearch.best_params_)\n",
        "print()\n",
        "print(\"Randomized scores on development set:\")\n",
        "print()\n",
        "means = randomsearch.cv_results_['mean_test_score']\n",
        "stds = randomsearch.cv_results_['std_test_score']\n",
        "fit_times = randomsearch.cv_results_['mean_fit_time']\n",
        "for mean, std, fit_time, params in zip(means, stds, fit_times, randomsearch.cv_results_['params']):\n",
        "    print(\"%0.3f (+/-%0.03f), %0.3f seconds for %r\"\n",
        "          % (mean, std * 2, fit_time, params))\n",
        "print()\n",
        "print(\"Classification Report\")\n",
        "print()\n",
        "y_pred = randomsearch.predict(X_test)\n",
        "print(classification_report(y_true, y_pred))\n",
        "print()"
      ],
      "execution_count": 27,
      "outputs": [
        {
          "output_type": "stream",
          "text": [
            "Best parameters set found on development set for XGBoost Classifier:\n",
            "\n",
            "{'n_estimators': 500, 'max_depth': 2, 'learning_rate': 0.2}\n",
            "\n",
            "Randomized scores on development set:\n",
            "\n",
            "0.946 (+/-0.018), 0.613 seconds for {'n_estimators': 50, 'max_depth': 2, 'learning_rate': 1}\n",
            "0.957 (+/-0.024), 5.898 seconds for {'n_estimators': 500, 'max_depth': 3, 'learning_rate': 0.2}\n",
            "0.958 (+/-0.034), 0.865 seconds for {'n_estimators': 100, 'max_depth': 1, 'learning_rate': 1}\n",
            "0.954 (+/-0.021), 1.351 seconds for {'n_estimators': 100, 'max_depth': 2, 'learning_rate': 0.2}\n",
            "0.949 (+/-0.027), 4.751 seconds for {'n_estimators': 500, 'max_depth': 3, 'learning_rate': 1}\n",
            "0.948 (+/-0.020), 1.149 seconds for {'n_estimators': 100, 'max_depth': 2, 'learning_rate': 1}\n",
            "0.907 (+/-0.021), 0.213 seconds for {'n_estimators': 10, 'max_depth': 3, 'learning_rate': 0.2}\n",
            "0.953 (+/-0.018), 2.741 seconds for {'n_estimators': 200, 'max_depth': 2, 'learning_rate': 0.1}\n",
            "0.940 (+/-0.026), 1.760 seconds for {'n_estimators': 200, 'max_depth': 1, 'learning_rate': 0.1}\n",
            "0.938 (+/-0.024), 0.882 seconds for {'n_estimators': 100, 'max_depth': 1, 'learning_rate': 0.2}\n",
            "0.958 (+/-0.024), 4.332 seconds for {'n_estimators': 500, 'max_depth': 1, 'learning_rate': 0.2}\n",
            "0.957 (+/-0.021), 1.762 seconds for {'n_estimators': 100, 'max_depth': 3, 'learning_rate': 0.2}\n",
            "0.955 (+/-0.021), 4.335 seconds for {'n_estimators': 500, 'max_depth': 1, 'learning_rate': 0.1}\n",
            "0.947 (+/-0.021), 4.664 seconds for {'n_estimators': 500, 'max_depth': 2, 'learning_rate': 1}\n",
            "0.950 (+/-0.015), 1.515 seconds for {'n_estimators': 100, 'max_depth': 2, 'learning_rate': 0.1}\n",
            "0.925 (+/-0.027), 0.684 seconds for {'n_estimators': 50, 'max_depth': 2, 'learning_rate': 0.1}\n",
            "0.959 (+/-0.018), 5.568 seconds for {'n_estimators': 500, 'max_depth': 2, 'learning_rate': 0.2}\n",
            "0.948 (+/-0.017), 0.685 seconds for {'n_estimators': 50, 'max_depth': 2, 'learning_rate': 0.2}\n",
            "0.951 (+/-0.039), 0.447 seconds for {'n_estimators': 50, 'max_depth': 1, 'learning_rate': 1}\n",
            "0.874 (+/-0.030), 0.150 seconds for {'n_estimators': 10, 'max_depth': 2, 'learning_rate': 0.2}\n",
            "\n",
            "Classification Report\n",
            "\n",
            "              precision    recall  f1-score   support\n",
            "\n",
            "           0       1.00      1.00      1.00        33\n",
            "           1       0.97      1.00      0.98        28\n",
            "           2       1.00      1.00      1.00        33\n",
            "           3       1.00      0.97      0.99        34\n",
            "           4       0.98      1.00      0.99        46\n",
            "           5       0.98      0.98      0.98        47\n",
            "           6       0.97      0.97      0.97        35\n",
            "           7       0.97      0.97      0.97        34\n",
            "           8       0.97      0.97      0.97        30\n",
            "           9       0.97      0.95      0.96        40\n",
            "\n",
            "    accuracy                           0.98       360\n",
            "   macro avg       0.98      0.98      0.98       360\n",
            "weighted avg       0.98      0.98      0.98       360\n",
            "\n",
            "\n"
          ],
          "name": "stdout"
        }
      ]
    },
    {
      "cell_type": "markdown",
      "metadata": {
        "id": "L3DcSKkqybTW"
      },
      "source": [
        "## Observations:\n",
        "* Hyperparameter search for Random Forest using Randomized Search CV will take less time than Grid Search as we can control the number of iterations\n",
        "* However, for XGBoost, Randomized Search takes 10x more time compared to Random Forest with same number of iterations (20)\n",
        "* Using Randomized Search CV, we can different set of best parameters for different number of iterations\n",
        "* GridSearch CV takes more time for XGBoost compared to Random Forest. Also, if large number of iterations are used, Random Search takes almost same time as Grid Search CV for both the classifiers\n",
        "* After getting means, standard deviations and fitting times for all the parameters based on f1_macro scoring, we select the parameters with maximum mean, minimum std dev and minimum fitting time as best params"
      ]
    },
    {
      "cell_type": "code",
      "metadata": {
        "id": "UZnl0kFA5KgF"
      },
      "source": [
        ""
      ],
      "execution_count": null,
      "outputs": []
    }
  ]
}