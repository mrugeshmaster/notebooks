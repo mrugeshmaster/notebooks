{
 "cells": [
  {
   "cell_type": "markdown",
   "metadata": {
    "id": "wnuvaNA6CcyM"
   },
   "source": [
    "# Hyperparameter Search"
   ]
  },
  {
   "cell_type": "markdown",
   "metadata": {
    "id": "1EU4NtY6CYBP"
   },
   "source": [
    "### Imports"
   ]
  },
  {
   "cell_type": "code",
   "execution_count": 14,
   "metadata": {
    "id": "UnWdzw8fB1tD"
   },
   "outputs": [],
   "source": [
    "import pandas as pd\n",
    "import numpy as np\n",
    "\n",
    "import matplotlib.pyplot as plt\n",
    "import seaborn as sns\n",
    "\n",
    "from sklearn import datasets\n",
    "from sklearn import tree\n",
    "from sklearn.metrics import confusion_matrix, classification_report\n",
    "from sklearn.model_selection import train_test_split as tts\n",
    "from sklearn.model_selection import GridSearchCV, RandomizedSearchCV\n",
    "\n",
    "import warnings; warnings.simplefilter('ignore')\n",
    "from time import time"
   ]
  },
  {
   "cell_type": "markdown",
   "metadata": {
    "id": "lOuEhdbRCjDR"
   },
   "source": [
    "### Loading digit dataset and splitting in train and test"
   ]
  },
  {
   "cell_type": "code",
   "execution_count": 2,
   "metadata": {
    "id": "2MrzLc61B97O"
   },
   "outputs": [],
   "source": [
    "X, y = datasets.load_digits(return_X_y = True)\n",
    "\n",
    "X_train, X_test, y_train, y_true = tts(X,y,test_size = 0.2, random_state = 42)"
   ]
  },
  {
   "cell_type": "markdown",
   "metadata": {
    "id": "GczvXCPdCoyd"
   },
   "source": [
    "### Getting parameters for Decision Tree Classifier"
   ]
  },
  {
   "cell_type": "code",
   "execution_count": 3,
   "metadata": {
    "colab": {
     "base_uri": "https://localhost:8080/",
     "height": 255
    },
    "id": "ndy3OXSZCAql",
    "outputId": "15d6d106-bcc2-40dc-9095-c1b439f62c6c"
   },
   "outputs": [
    {
     "data": {
      "text/plain": [
       "{'ccp_alpha': 0.0,\n",
       " 'class_weight': None,\n",
       " 'criterion': 'gini',\n",
       " 'max_depth': None,\n",
       " 'max_features': None,\n",
       " 'max_leaf_nodes': None,\n",
       " 'min_impurity_decrease': 0.0,\n",
       " 'min_impurity_split': None,\n",
       " 'min_samples_leaf': 1,\n",
       " 'min_samples_split': 2,\n",
       " 'min_weight_fraction_leaf': 0.0,\n",
       " 'presort': 'deprecated',\n",
       " 'random_state': None,\n",
       " 'splitter': 'best'}"
      ]
     },
     "execution_count": 3,
     "metadata": {
      "tags": []
     },
     "output_type": "execute_result"
    }
   ],
   "source": [
    "tree.DecisionTreeClassifier().get_params()"
   ]
  },
  {
   "cell_type": "markdown",
   "metadata": {
    "id": "CJnF8EA0Ct2G"
   },
   "source": [
    "### Creating param grid for Grid Search CV and finding the best parameters"
   ]
  },
  {
   "cell_type": "code",
   "execution_count": 4,
   "metadata": {
    "colab": {
     "base_uri": "https://localhost:8080/",
     "height": 34
    },
    "id": "I3hoIVzhCDOf",
    "outputId": "4bfa0496-1748-495e-ed2c-1c2f0c36f773"
   },
   "outputs": [
    {
     "name": "stdout",
     "output_type": "stream",
     "text": [
      "{'criterion': 'entropy', 'max_depth': 10, 'splitter': 'best'}\n"
     ]
    }
   ],
   "source": [
    "param_grid = [\n",
    "              {'splitter': ['best', 'random'], \n",
    "               'max_depth': [1,2,3,4,5,6,7,8,9,10], \n",
    "               'criterion': ['gini', 'entropy']}\n",
    "              ]\n",
    "decisionTreeclf = tree.DecisionTreeClassifier()\n",
    "search = GridSearchCV(estimator = decisionTreeclf, param_grid=param_grid)\n",
    "search.fit(X_train, y_train)\n",
    "print(search.best_params_)"
   ]
  },
  {
   "cell_type": "markdown",
   "metadata": {
    "id": "aHcCTqFpC3Ns"
   },
   "source": [
    "### Classification Report for best parameters"
   ]
  },
  {
   "cell_type": "code",
   "execution_count": 5,
   "metadata": {
    "colab": {
     "base_uri": "https://localhost:8080/",
     "height": 306
    },
    "id": "aT4RIzzBCHG6",
    "outputId": "aca38101-3074-45db-a766-be61bff97817"
   },
   "outputs": [
    {
     "name": "stdout",
     "output_type": "stream",
     "text": [
      "              precision    recall  f1-score   support\n",
      "\n",
      "           0       0.91      0.94      0.93        33\n",
      "           1       0.78      0.89      0.83        28\n",
      "           2       0.81      0.76      0.78        33\n",
      "           3       0.88      0.85      0.87        34\n",
      "           4       0.91      0.87      0.89        46\n",
      "           5       0.92      0.96      0.94        47\n",
      "           6       0.97      0.94      0.96        35\n",
      "           7       0.85      0.85      0.85        34\n",
      "           8       0.90      0.87      0.88        30\n",
      "           9       0.90      0.90      0.90        40\n",
      "\n",
      "    accuracy                           0.89       360\n",
      "   macro avg       0.88      0.88      0.88       360\n",
      "weighted avg       0.89      0.89      0.89       360\n",
      "\n"
     ]
    }
   ],
   "source": [
    "y_pred = search.predict(X_test)\n",
    "print(classification_report(y_true, y_pred))"
   ]
  },
  {
   "cell_type": "markdown",
   "metadata": {
    "id": "iq_IyEHkC8u4"
   },
   "source": [
    "### Selecting 'precision_micro', 'precision_macro', 'recall_micro', 'recall_macro','f1_micro', 'f1_macro' scores to predict and calculate the classification matrix"
   ]
  },
  {
   "cell_type": "code",
   "execution_count": 9,
   "metadata": {
    "id": "xNRGl7QNCJhA"
   },
   "outputs": [],
   "source": [
    "scores = ['precision_micro', 'precision_macro', 'recall_micro', 'recall_macro','f1_micro', 'f1_macro']"
   ]
  },
  {
   "cell_type": "markdown",
   "metadata": {
    "id": "VnJYLzBiDNNu"
   },
   "source": [
    "### Using GridSearchCV"
   ]
  },
  {
   "cell_type": "code",
   "execution_count": null,
   "metadata": {
    "id": "UZorDhfbCMbO"
   },
   "outputs": [],
   "source": [
    "start = time()\n",
    "for score in scores:\n",
    "  print(f\"# Tuning hyper-parameters for {score}\")\n",
    "  search = GridSearchCV(estimator=decisionTreeclf, param_grid=param_grid, scoring=score)\n",
    "  search.fit(X_train,y_train)\n",
    "  print(\"Best parameters set found on development set:\")\n",
    "  print()\n",
    "  print(search.best_params_)\n",
    "  print(\"Classification Report\")\n",
    "  print()\n",
    "  y_pred = search.predict(X_test)\n",
    "  print(classification_report(y_true, y_pred))\n",
    "  print()\n",
    "end = time()\n",
    "print(f\"Time taken for Grid Search CV on all the scores: {end - start}\")"
   ]
  },
  {
   "cell_type": "markdown",
   "metadata": {
    "id": "W-7Nxy9cDSeX"
   },
   "source": [
    "### Using RandomizedSearchCV"
   ]
  },
  {
   "cell_type": "code",
   "execution_count": null,
   "metadata": {
    "id": "ZzwhNSGRCOOY"
   },
   "outputs": [],
   "source": [
    "n_iter = 20\n",
    "for score in scores:\n",
    "  print(f\"# Tuning hyper-parameters for {score}\")\n",
    "  search = RandomizedSearchCV(estimator=decisionTreeclf, param_distributions=param_grid, scoring=score, n_iter=n_iter)\n",
    "  search.fit(X_train,y_train)\n",
    "  print(\"Best parameters set found on development set:\")\n",
    "  print()\n",
    "  print(search.best_params_)\n",
    "  print(\"Classification Report\")\n",
    "  print()\n",
    "  y_pred = search.predict(X_test)\n",
    "  print(classification_report(y_true, y_pred))\n",
    "  print()\n",
    "print(f\"Time taken for Randomized Search CV on all the scores: {end - start}\")"
   ]
  },
  {
   "cell_type": "markdown",
   "metadata": {
    "id": "MMKhiDYvTMxG"
   },
   "source": [
    "### Calculating time taken for Randomized Search with 20 iterations"
   ]
  },
  {
   "cell_type": "code",
   "execution_count": 24,
   "metadata": {
    "colab": {
     "base_uri": "https://localhost:8080/",
     "height": 34
    },
    "id": "alTpUzaACTp-",
    "outputId": "c562452c-2ca6-43c7-adec-8a4c235aa99c"
   },
   "outputs": [
    {
     "name": "stdout",
     "output_type": "stream",
     "text": [
      "RandomizedSearchCV took 1.12 seconds for 20 candidates parameter settings.\n"
     ]
    }
   ],
   "source": [
    "clf = tree.DecisionTreeClassifier()\n",
    "n_iter_search = 20\n",
    "start = time()\n",
    "random_search = RandomizedSearchCV(clf, param_distributions=param_grid,\n",
    "                                   n_iter=n_iter_search)\n",
    "random_search.fit(X, y)\n",
    "end = time()\n",
    "print(\"RandomizedSearchCV took %.2f seconds for %d candidates\"\n",
    "      \" parameter settings.\" % ((end - start), n_iter_search))"
   ]
  },
  {
   "cell_type": "markdown",
   "metadata": {
    "id": "s2rAN6ZLTR8q"
   },
   "source": [
    "### Calculating time taken for Randomized Search with 360 (maximum) iterations"
   ]
  },
  {
   "cell_type": "code",
   "execution_count": 27,
   "metadata": {
    "colab": {
     "base_uri": "https://localhost:8080/",
     "height": 34
    },
    "id": "KEYooIlhSdTG",
    "outputId": "e7d639b7-02de-4b93-ee2d-d66494fdbef6"
   },
   "outputs": [
    {
     "name": "stdout",
     "output_type": "stream",
     "text": [
      "RandomizedSearchCV took 2.10 seconds for 360 candidates parameter settings.\n"
     ]
    }
   ],
   "source": [
    "n_iter_search = 360\n",
    "start = time()\n",
    "random_search = RandomizedSearchCV(clf, param_distributions=param_grid,\n",
    "                                   n_iter=n_iter_search)\n",
    "random_search.fit(X, y)\n",
    "end = time()\n",
    "print(\"RandomizedSearchCV took %.2f seconds for %d candidates\"\n",
    "      \" parameter settings.\" % ((end - start), n_iter_search))"
   ]
  },
  {
   "cell_type": "markdown",
   "metadata": {
    "id": "rMV_Ml95Talk"
   },
   "source": [
    "### Calculating time taken for Grid Search"
   ]
  },
  {
   "cell_type": "code",
   "execution_count": 28,
   "metadata": {
    "colab": {
     "base_uri": "https://localhost:8080/",
     "height": 34
    },
    "id": "w0M_wJGmSCwt",
    "outputId": "45c9accf-b018-44fd-be10-66fef7fcebd1"
   },
   "outputs": [
    {
     "name": "stdout",
     "output_type": "stream",
     "text": [
      "GridSearchCV took 2.09 seconds for parameter settings.\n"
     ]
    }
   ],
   "source": [
    "start = time()\n",
    "grid_search = GridSearchCV(clf, param_grid=param_grid)\n",
    "grid_search.fit(X, y)\n",
    "end = time()\n",
    "print(\"GridSearchCV took %.2f seconds for\"\n",
    "      \" parameter settings.\" % (end - start))"
   ]
  },
  {
   "cell_type": "markdown",
   "metadata": {
    "id": "BZMaoBFxSn4h"
   },
   "source": [
    "### Observations\n",
    "\n",
    "* As we can specify the number of iterations in RandomizedSearchCV, we can complete hyperparameter search in less time using less iterations\n",
    "* GridSearchCV iterates all the possible combinations so it will take more time than RandomizedSearchCV\n",
    "* When number of iterations is maximum, RandomizedSearchCV will take almost same time as GridSearchCV"
   ]
  }
 ],
 "metadata": {
  "colab": {
   "collapsed_sections": [],
   "name": "HyperparameterSearch.ipynb",
   "provenance": [],
   "toc_visible": true
  },
  "kernelspec": {
   "display_name": "Python 3",
   "language": "python",
   "name": "python3"
  },
  "language_info": {
   "codemirror_mode": {
    "name": "ipython",
    "version": 3
   },
   "file_extension": ".py",
   "mimetype": "text/x-python",
   "name": "python",
   "nbconvert_exporter": "python",
   "pygments_lexer": "ipython3",
   "version": "3.8.3"
  }
 },
 "nbformat": 4,
 "nbformat_minor": 1
}
