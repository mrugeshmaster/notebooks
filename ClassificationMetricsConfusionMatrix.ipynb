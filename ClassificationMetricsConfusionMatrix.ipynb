{
  "nbformat": 4,
  "nbformat_minor": 0,
  "metadata": {
    "colab": {
      "name": "ClassificationMetricsConfusionMatrix.ipynb",
      "provenance": [],
      "collapsed_sections": []
    },
    "kernelspec": {
      "name": "python3",
      "display_name": "Python 3"
    }
  },
  "cells": [
    {
      "cell_type": "markdown",
      "metadata": {
        "id": "0IOAhCFY_dfU"
      },
      "source": [
        "# Classification Metrics and Confusion Matrix"
      ]
    },
    {
      "cell_type": "markdown",
      "metadata": {
        "id": "mL298WDv_mm-"
      },
      "source": [
        "### Imports"
      ]
    },
    {
      "cell_type": "code",
      "metadata": {
        "id": "hOVRnPns467y"
      },
      "source": [
        "import pandas as pd\n",
        "import numpy as np\n",
        "\n",
        "import matplotlib.pyplot as plt\n",
        "import seaborn as sns\n",
        "\n",
        "from sklearn import datasets\n",
        "from sklearn import tree\n",
        "from sklearn.metrics import confusion_matrix, classification_report\n",
        "from sklearn.model_selection import train_test_split as tts\n"
      ],
      "execution_count": 18,
      "outputs": []
    },
    {
      "cell_type": "markdown",
      "metadata": {
        "id": "IXSHRvBqAVAa"
      },
      "source": [
        "## Part 1 : Binary Classification"
      ]
    },
    {
      "cell_type": "markdown",
      "metadata": {
        "id": "Vfdnm5tR_sfe"
      },
      "source": [
        "### Loading Breast Cancer Dataset and splitting using train_test_split"
      ]
    },
    {
      "cell_type": "code",
      "metadata": {
        "id": "H6V2GScW5E5Q"
      },
      "source": [
        "X, y = datasets.load_breast_cancer(return_X_y = True)\n",
        "\n",
        "X_train, X_test, y_train, y_true = tts(X,y,test_size = 0.2, random_state = 42)"
      ],
      "execution_count": 25,
      "outputs": []
    },
    {
      "cell_type": "markdown",
      "metadata": {
        "id": "wf1ZPZ6P_69U"
      },
      "source": [
        "### Classification using Decision Tree Classifier and predicting y values using X_test"
      ]
    },
    {
      "cell_type": "code",
      "metadata": {
        "id": "jvvlQGuF5w-6"
      },
      "source": [
        "clf = tree.DecisionTreeClassifier()\n",
        "clf = clf.fit(X_train, y_train)\n",
        "y_pred = clf.predict(X_test)"
      ],
      "execution_count": 21,
      "outputs": []
    },
    {
      "cell_type": "markdown",
      "metadata": {
        "id": "maZKFwwz___5"
      },
      "source": [
        "### Generating Confusion Matrix using y_true (Actual) and y_pred (Predicted) and creating a heatmap using Seaborn"
      ]
    },
    {
      "cell_type": "code",
      "metadata": {
        "id": "mtbW7IGJ7dmi"
      },
      "source": [
        "cm = confusion_matrix(y_true, y_pred)"
      ],
      "execution_count": 22,
      "outputs": []
    },
    {
      "cell_type": "code",
      "metadata": {
        "id": "UI_kO4hM9uWV",
        "outputId": "a37bda2d-42f0-4f36-852d-e522d3cdfa75",
        "colab": {
          "base_uri": "https://localhost:8080/",
          "height": 282
        }
      },
      "source": [
        "sns.heatmap(cm, annot=True, cmap=\"Blues\")"
      ],
      "execution_count": 23,
      "outputs": [
        {
          "output_type": "execute_result",
          "data": {
            "text/plain": [
              "<matplotlib.axes._subplots.AxesSubplot at 0x7fdaf75ad550>"
            ]
          },
          "metadata": {
            "tags": []
          },
          "execution_count": 23
        },
        {
          "output_type": "display_data",
          "data": {
            "image/png": "[encoded data removed]",
            "text/plain": [
              "<Figure size 432x288 with 2 Axes>"
            ]
          },
          "metadata": {
            "tags": [],
            "needs_background": "light"
          }
        }
      ]
    },
    {
      "cell_type": "code",
      "metadata": {
        "id": "bgdQzcP5-B8m",
        "outputId": "a292b1e0-cfd4-400e-f873-ff97719d6ba9",
        "colab": {
          "base_uri": "https://localhost:8080/",
          "height": 170
        }
      },
      "source": [
        "print(classification_report(y_true, y_pred))"
      ],
      "execution_count": 24,
      "outputs": [
        {
          "output_type": "stream",
          "text": [
            "              precision    recall  f1-score   support\n",
            "\n",
            "           0       0.93      0.91      0.92        43\n",
            "           1       0.94      0.96      0.95        71\n",
            "\n",
            "    accuracy                           0.94       114\n",
            "   macro avg       0.94      0.93      0.93       114\n",
            "weighted avg       0.94      0.94      0.94       114\n",
            "\n"
          ],
          "name": "stdout"
        }
      ]
    },
    {
      "cell_type": "markdown",
      "metadata": {
        "id": "SVPmf2X8AZqi"
      },
      "source": [
        "## Part 2 : Multi-class Classification"
      ]
    },
    {
      "cell_type": "markdown",
      "metadata": {
        "id": "wN-_p35mA82G"
      },
      "source": [
        "### Loading Digits dataset"
      ]
    },
    {
      "cell_type": "code",
      "metadata": {
        "id": "PcCtCFOxAdJC"
      },
      "source": [
        "X, y = datasets.load_digits(return_X_y = True)\n",
        "\n",
        "X_train, X_test, y_train, y_true = tts(X,y,test_size = 0.2, random_state = 42)"
      ],
      "execution_count": 26,
      "outputs": []
    },
    {
      "cell_type": "markdown",
      "metadata": {
        "id": "dwtJyTBdBBZ8"
      },
      "source": [
        "### Multi-class Classfication using Decision Tree"
      ]
    },
    {
      "cell_type": "code",
      "metadata": {
        "id": "DJGGPQBQAkc6"
      },
      "source": [
        "clf2 = tree.DecisionTreeClassifier()\n",
        "clf2 = clf2.fit(X_train, y_train)\n",
        "y_pred = clf2.predict(X_test)"
      ],
      "execution_count": 27,
      "outputs": []
    },
    {
      "cell_type": "markdown",
      "metadata": {
        "id": "WJYoDajUBLrl"
      },
      "source": [
        "### Generating confusion matrix for multiple classes"
      ]
    },
    {
      "cell_type": "code",
      "metadata": {
        "id": "psJmMUlrApvV",
        "outputId": "408ae653-ed1f-4c2e-9e6f-50debb1d9247",
        "colab": {
          "base_uri": "https://localhost:8080/",
          "height": 282
        }
      },
      "source": [
        "cm = confusion_matrix(y_true, y_pred)\n",
        "sns.heatmap(cm, annot=True, cmap=\"Blues\")"
      ],
      "execution_count": 28,
      "outputs": [
        {
          "output_type": "execute_result",
          "data": {
            "text/plain": [
              "<matplotlib.axes._subplots.AxesSubplot at 0x7fdaf744e1d0>"
            ]
          },
          "metadata": {
            "tags": []
          },
          "execution_count": 28
        },
        {
          "output_type": "display_data",
          "data": {
            "image/png": "[encoded data removed]",
            "text/plain": [
              "<Figure size 432x288 with 2 Axes>"
            ]
          },
          "metadata": {
            "tags": [],
            "needs_background": "light"
          }
        }
      ]
    },
    {
      "cell_type": "code",
      "metadata": {
        "id": "qo1uzSL_Ath8",
        "outputId": "95800c8d-64b5-487c-a690-9ce9943c451f",
        "colab": {
          "base_uri": "https://localhost:8080/",
          "height": 306
        }
      },
      "source": [
        "print(classification_report(y_true, y_pred))"
      ],
      "execution_count": 29,
      "outputs": [
        {
          "output_type": "stream",
          "text": [
            "              precision    recall  f1-score   support\n",
            "\n",
            "           0       0.94      0.88      0.91        33\n",
            "           1       0.85      0.79      0.81        28\n",
            "           2       0.81      0.76      0.78        33\n",
            "           3       0.78      0.91      0.84        34\n",
            "           4       0.76      0.89      0.82        46\n",
            "           5       0.91      0.87      0.89        47\n",
            "           6       0.97      0.91      0.94        35\n",
            "           7       0.86      0.88      0.87        34\n",
            "           8       0.85      0.73      0.79        30\n",
            "           9       0.85      0.82      0.84        40\n",
            "\n",
            "    accuracy                           0.85       360\n",
            "   macro avg       0.86      0.85      0.85       360\n",
            "weighted avg       0.85      0.85      0.85       360\n",
            "\n"
          ],
          "name": "stdout"
        }
      ]
    }
  ]
}